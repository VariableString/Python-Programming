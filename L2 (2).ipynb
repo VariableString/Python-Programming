{
 "cells": [
  {
   "cell_type": "markdown",
   "id": "273d99d0",
   "metadata": {},
   "source": [
    "### Hello World Program"
   ]
  },
  {
   "cell_type": "code",
   "execution_count": 1,
   "id": "cd0e6502",
   "metadata": {},
   "outputs": [
    {
     "name": "stdout",
     "output_type": "stream",
     "text": [
      "Hello World\n"
     ]
    }
   ],
   "source": [
    "print(\"Hello World\")"
   ]
  },
  {
   "cell_type": "code",
   "execution_count": 2,
   "id": "e7e127de",
   "metadata": {},
   "outputs": [
    {
     "ename": "SyntaxError",
     "evalue": "Missing parentheses in call to 'print'. Did you mean print(\"Hello World\")? (796388850.py, line 1)",
     "output_type": "error",
     "traceback": [
      "\u001b[1;36m  Cell \u001b[1;32mIn [2], line 1\u001b[1;36m\u001b[0m\n\u001b[1;33m    print \"Hello World\"\u001b[0m\n\u001b[1;37m          ^\u001b[0m\n\u001b[1;31mSyntaxError\u001b[0m\u001b[1;31m:\u001b[0m Missing parentheses in call to 'print'. Did you mean print(\"Hello World\")?\n"
     ]
    }
   ],
   "source": [
    "print \"Hello World\""
   ]
  },
  {
   "cell_type": "markdown",
   "id": "f12c18a6",
   "metadata": {},
   "source": [
    "### Direct Calculations in Python"
   ]
  },
  {
   "cell_type": "code",
   "execution_count": 4,
   "id": "9d485b22",
   "metadata": {},
   "outputs": [
    {
     "data": {
      "text/plain": [
       "7"
      ]
     },
     "execution_count": 4,
     "metadata": {},
     "output_type": "execute_result"
    }
   ],
   "source": [
    "3+4"
   ]
  },
  {
   "cell_type": "code",
   "execution_count": 7,
   "id": "42691f5e",
   "metadata": {},
   "outputs": [
    {
     "data": {
      "text/plain": [
       "9.0"
      ]
     },
     "execution_count": 7,
     "metadata": {},
     "output_type": "execute_result"
    }
   ],
   "source": [
    "(6+9)/3 + 4"
   ]
  },
  {
   "cell_type": "markdown",
   "id": "b4488278",
   "metadata": {},
   "source": [
    "### Single line comment"
   ]
  },
  {
   "cell_type": "code",
   "execution_count": 3,
   "id": "a10688c0",
   "metadata": {},
   "outputs": [
    {
     "name": "stdout",
     "output_type": "stream",
     "text": [
      "Comment not printed\n"
     ]
    }
   ],
   "source": [
    "# This is a single line comment in Python\n",
    "\n",
    "print(\"Comment not printed\")"
   ]
  },
  {
   "cell_type": "markdown",
   "id": "9162a993",
   "metadata": {},
   "source": [
    "### Multi-line comment"
   ]
  },
  {
   "cell_type": "code",
   "execution_count": 1,
   "id": "e73e8638",
   "metadata": {},
   "outputs": [],
   "source": [
    "# This is \n",
    "# a comment spanning\n",
    "# multiple lines"
   ]
  },
  {
   "cell_type": "code",
   "execution_count": 3,
   "id": "31785f4d",
   "metadata": {},
   "outputs": [
    {
     "data": {
      "text/plain": [
       "'\\nThis is also a comment spanning multiple lines '"
      ]
     },
     "execution_count": 3,
     "metadata": {},
     "output_type": "execute_result"
    }
   ],
   "source": [
    "'''\n",
    "This is also a \\\n",
    "comment spanning \\\n",
    "multiple lines \\\n",
    "'''"
   ]
  },
  {
   "cell_type": "markdown",
   "id": "7b7d4e13",
   "metadata": {},
   "source": [
    "### Python Keywords"
   ]
  },
  {
   "cell_type": "code",
   "execution_count": 12,
   "id": "9ef0d27f",
   "metadata": {},
   "outputs": [
    {
     "data": {
      "text/plain": [
       "False"
      ]
     },
     "execution_count": 12,
     "metadata": {},
     "output_type": "execute_result"
    }
   ],
   "source": [
    "#Some examples of Python Keywords\n",
    "\n",
    "False\n",
    "false\n",
    "\n",
    "True\n",
    "true\n",
    "\n",
    "for\n",
    "\n",
    "def\n",
    "\n",
    "in\n",
    "\n",
    "and\n",
    "if\n",
    "else\n",
    "Else"
   ]
  },
  {
   "cell_type": "markdown",
   "id": "499b27af",
   "metadata": {},
   "source": [
    "### Python Identifiers"
   ]
  },
  {
   "cell_type": "code",
   "execution_count": 14,
   "id": "fc50544f",
   "metadata": {},
   "outputs": [],
   "source": [
    "abc = 3"
   ]
  },
  {
   "cell_type": "code",
   "execution_count": 18,
   "id": "db8ace8f",
   "metadata": {},
   "outputs": [],
   "source": [
    "Abc = 5"
   ]
  },
  {
   "cell_type": "code",
   "execution_count": 15,
   "id": "4d7ae43c",
   "metadata": {},
   "outputs": [
    {
     "ename": "SyntaxError",
     "evalue": "invalid syntax (258518375.py, line 1)",
     "output_type": "error",
     "traceback": [
      "\u001b[1;36m  Cell \u001b[1;32mIn [15], line 1\u001b[1;36m\u001b[0m\n\u001b[1;33m    2xy = 8\u001b[0m\n\u001b[1;37m     ^\u001b[0m\n\u001b[1;31mSyntaxError\u001b[0m\u001b[1;31m:\u001b[0m invalid syntax\n"
     ]
    }
   ],
   "source": [
    "2xy = 8"
   ]
  },
  {
   "cell_type": "code",
   "execution_count": 17,
   "id": "d077b563",
   "metadata": {},
   "outputs": [],
   "source": [
    "x2y = 6.9"
   ]
  },
  {
   "cell_type": "code",
   "execution_count": 16,
   "id": "7fe7b9bc",
   "metadata": {},
   "outputs": [],
   "source": [
    "_ty = \"valid\""
   ]
  },
  {
   "cell_type": "code",
   "execution_count": 20,
   "id": "775e750f",
   "metadata": {},
   "outputs": [
    {
     "ename": "SyntaxError",
     "evalue": "invalid syntax (1038466189.py, line 1)",
     "output_type": "error",
     "traceback": [
      "\u001b[1;36m  Cell \u001b[1;32mIn [20], line 1\u001b[1;36m\u001b[0m\n\u001b[1;33m    ty@ = \"invalid\"\u001b[0m\n\u001b[1;37m        ^\u001b[0m\n\u001b[1;31mSyntaxError\u001b[0m\u001b[1;31m:\u001b[0m invalid syntax\n"
     ]
    }
   ],
   "source": [
    "ty@ = \"invalid\""
   ]
  },
  {
   "cell_type": "code",
   "execution_count": 21,
   "id": "f6c58ac7",
   "metadata": {},
   "outputs": [
    {
     "ename": "SyntaxError",
     "evalue": "invalid syntax (2848959606.py, line 1)",
     "output_type": "error",
     "traceback": [
      "\u001b[1;36m  Cell \u001b[1;32mIn [21], line 1\u001b[1;36m\u001b[0m\n\u001b[1;33m    $gh = True\u001b[0m\n\u001b[1;37m    ^\u001b[0m\n\u001b[1;31mSyntaxError\u001b[0m\u001b[1;31m:\u001b[0m invalid syntax\n"
     ]
    }
   ],
   "source": [
    "$gh = True"
   ]
  },
  {
   "cell_type": "markdown",
   "id": "483cceec",
   "metadata": {},
   "source": [
    "### Multiline Statements"
   ]
  },
  {
   "cell_type": "code",
   "execution_count": 4,
   "id": "6ebf46f5",
   "metadata": {},
   "outputs": [
    {
     "name": "stdout",
     "output_type": "stream",
     "text": [
      "<class 'int'>\n"
     ]
    }
   ],
   "source": [
    "item_one = 1\n",
    "item_two = 2\n",
    "item_three = 3\n",
    "\n",
    "total = item_one + \\\n",
    "        item_two + \\\n",
    "        item_three \n",
    "\n",
    "total\n",
    "print(type(item_three))"
   ]
  },
  {
   "cell_type": "code",
   "execution_count": 25,
   "id": "2b8e31ac",
   "metadata": {},
   "outputs": [],
   "source": [
    "days = ['Monday', 'Tuesday', 'Wednesday', \n",
    "        'Thursday', 'Friday'] "
   ]
  },
  {
   "cell_type": "markdown",
   "id": "fdcbce0b",
   "metadata": {},
   "source": [
    "### Indentation"
   ]
  },
  {
   "cell_type": "code",
   "execution_count": 30,
   "id": "5708edbf",
   "metadata": {},
   "outputs": [
    {
     "name": "stdout",
     "output_type": "stream",
     "text": [
      "False\n"
     ]
    }
   ],
   "source": [
    "if (2==2+1): \n",
    "    print(\"True\")\n",
    "else: \n",
    "            print(\"False\")"
   ]
  },
  {
   "cell_type": "markdown",
   "id": "a65e40af",
   "metadata": {},
   "source": [
    "### String Quotations"
   ]
  },
  {
   "cell_type": "code",
   "execution_count": 31,
   "id": "e77389d4",
   "metadata": {},
   "outputs": [],
   "source": [
    "word = 'word' \n",
    "sentence = \"This is a sentence.\" \n",
    "paragraph = \"\"\"This is a paragraph. It is made up of multiple lines and sentences.\"\"\" "
   ]
  },
  {
   "cell_type": "code",
   "execution_count": 33,
   "id": "68dee7d2",
   "metadata": {},
   "outputs": [
    {
     "ename": "SyntaxError",
     "evalue": "EOL while scanning string literal (142354662.py, line 1)",
     "output_type": "error",
     "traceback": [
      "\u001b[1;36m  Cell \u001b[1;32mIn [33], line 1\u001b[1;36m\u001b[0m\n\u001b[1;33m    word = 'a single\u001b[0m\n\u001b[1;37m                    ^\u001b[0m\n\u001b[1;31mSyntaxError\u001b[0m\u001b[1;31m:\u001b[0m EOL while scanning string literal\n"
     ]
    }
   ],
   "source": [
    "word = 'a single\n",
    "        word' "
   ]
  },
  {
   "cell_type": "code",
   "execution_count": 34,
   "id": "25301006",
   "metadata": {},
   "outputs": [
    {
     "ename": "SyntaxError",
     "evalue": "EOL while scanning string literal (4256634102.py, line 1)",
     "output_type": "error",
     "traceback": [
      "\u001b[1;36m  Cell \u001b[1;32mIn [34], line 1\u001b[1;36m\u001b[0m\n\u001b[1;33m    sentence = \"This is a\u001b[0m\n\u001b[1;37m                          ^\u001b[0m\n\u001b[1;31mSyntaxError\u001b[0m\u001b[1;31m:\u001b[0m EOL while scanning string literal\n"
     ]
    }
   ],
   "source": [
    "sentence = \"This is a \n",
    "            sentence.\" "
   ]
  },
  {
   "cell_type": "code",
   "execution_count": 5,
   "id": "e89bbb35",
   "metadata": {},
   "outputs": [],
   "source": [
    "paragraph = \"\"\"This is a paragraph. It is made up of \n",
    "                multiple lines and \n",
    "                sentences.\"\"\" "
   ]
  },
  {
   "cell_type": "code",
   "execution_count": 6,
   "id": "2c7c6582",
   "metadata": {},
   "outputs": [
    {
     "data": {
      "text/plain": [
       "'This is a paragraph. It is made up of \\n                multiple lines and \\n                sentences.'"
      ]
     },
     "execution_count": 6,
     "metadata": {},
     "output_type": "execute_result"
    }
   ],
   "source": [
    "paragraph"
   ]
  },
  {
   "cell_type": "code",
   "execution_count": 9,
   "id": "d695ab20",
   "metadata": {},
   "outputs": [
    {
     "name": "stdout",
     "output_type": "stream",
     "text": [
      "2473679574720\n",
      "2473679573440\n",
      "True\n",
      "False\n"
     ]
    }
   ],
   "source": [
    "a=10\n",
    "b=10\n",
    "x=['a','b']\n",
    "y=['a','b']\n",
    "#print (id(a))\n",
    "#print (id(b))\n",
    "print (id(x))\n",
    "print (id(y))\n",
    "print (x==y)\n",
    "print (x is y)"
   ]
  },
  {
   "cell_type": "code",
   "execution_count": 13,
   "id": "400bae69",
   "metadata": {},
   "outputs": [
    {
     "name": "stdout",
     "output_type": "stream",
     "text": [
      "True\n",
      "True\n",
      "False\n"
     ]
    }
   ],
   "source": [
    "l=['sem',3,'shift',1]\n",
    "c='sem'\n",
    "print (c in l)\n",
    "print (3 in l)\n",
    "print ('shift' not in l)"
   ]
  },
  {
   "cell_type": "code",
   "execution_count": 21,
   "id": "465420b5",
   "metadata": {},
   "outputs": [
    {
     "name": "stdout",
     "output_type": "stream",
     "text": [
      "34\n",
      "Failed!\n"
     ]
    }
   ],
   "source": [
    "m=int(input())\n",
    "if(100>=m>=90):\n",
    "    print (\"A Grade\")\n",
    "elif(90>m>=80):\n",
    "    print (\"B Grade\")\n",
    "elif(80>m>=70):\n",
    "    print (\"C Grade\")\n",
    "elif(70>m>=60):\n",
    "    print (\"D Grade\")\n",
    "elif(60>m>=50):\n",
    "    print (\"E Grade\")\n",
    "else:\n",
    "    print (\"Failed!\")"
   ]
  },
  {
   "cell_type": "code",
   "execution_count": 23,
   "id": "14f71a3a",
   "metadata": {},
   "outputs": [
    {
     "name": "stdout",
     "output_type": "stream",
     "text": [
      "2\n",
      "5\n",
      "Enter the arithmatic operation :45\n",
      "Wrong Input!\n"
     ]
    }
   ],
   "source": [
    "a = int(input())\n",
    "b = float(input())\n",
    "d = input(\"Enter the arithmatic operation :\")\n",
    "if (d == \"Add\"):\n",
    "    print(a+b)\n",
    "elif (d == \"Sub\"):\n",
    "    print(a-b)\n",
    "elif (d == \"Multi\"):\n",
    "    print(a*b)\n",
    "elif (d == \"Div\"):\n",
    "    print(a/b)\n",
    "elif (d == \"Intdiv\"):\n",
    "    print(a//b)\n",
    "elif(d == \"Sqr\"):\n",
    "    print(a**b)\n",
    "else:\n",
    "    print(\"Wrong Input!\")\n",
    "    "
   ]
  },
  {
   "cell_type": "code",
   "execution_count": 2,
   "id": "029a99d2",
   "metadata": {},
   "outputs": [
    {
     "name": "stdout",
     "output_type": "stream",
     "text": [
      "mary\n"
     ]
    }
   ],
   "source": [
    "str1='Mary'\n",
    "str2='Mark'\n",
    "if(str1>str2):\n",
    "    print (str1)\n",
    "else:\n",
    "    print (str2)"
   ]
  },
  {
   "cell_type": "code",
   "execution_count": 3,
   "id": "7a9984b1",
   "metadata": {},
   "outputs": [
    {
     "name": "stdout",
     "output_type": "stream",
     "text": [
      "mark\n"
     ]
    }
   ],
   "source": [
    "str1='Mark'\n",
    "str2='mark'\n",
    "if(str1>str2):\n",
    "    print (str1)\n",
    "else:\n",
    "    print (str2)"
   ]
  },
  {
   "cell_type": "code",
   "execution_count": 4,
   "id": "7c09696c",
   "metadata": {},
   "outputs": [
    {
     "name": "stdout",
     "output_type": "stream",
     "text": [
      "marks\n"
     ]
    }
   ],
   "source": [
    "str1='mark'\n",
    "str2='marks'\n",
    "if(str1>str2):\n",
    "    print (str1)\n",
    "else:\n",
    "    print (str2)"
   ]
  },
  {
   "cell_type": "code",
   "execution_count": 8,
   "id": "63e8ca78",
   "metadata": {},
   "outputs": [
    {
     "data": {
      "text/plain": [
       "97"
      ]
     },
     "execution_count": 8,
     "metadata": {},
     "output_type": "execute_result"
    }
   ],
   "source": [
    "ord('a') #for finding ASI ii values"
   ]
  },
  {
   "cell_type": "code",
   "execution_count": 12,
   "id": "3846eb58",
   "metadata": {},
   "outputs": [
    {
     "name": "stdout",
     "output_type": "stream",
     "text": [
      "Enter 1st number :111\n",
      "Enter 2nd number :222\n",
      "Enter 3rd number :333\n",
      "c is the largest\n",
      "a is the smallest\n"
     ]
    }
   ],
   "source": [
    "# program for finding largest number from user input\n",
    "a= int(input(\"Enter 1st number :\"))\n",
    "b= int(input(\"Enter 2nd number :\"))\n",
    "c= int(input(\"Enter 3rd number :\"))\n",
    "if (b<a>c):\n",
    "    print (\"a is the largest\")\n",
    "elif (a<b>c):\n",
    "    print (\"b is the largest\")\n",
    "elif (a<c>b):\n",
    "    print (\"c is the largest\")\n",
    "if (b>a<c):\n",
    "    print(\"a is the smallest\")\n",
    "elif (a>b<c):\n",
    "    print(\"b is the smallest\")\n",
    "elif (a>c<b):\n",
    "    print(\"c is the smallest\")\n"
   ]
  },
  {
   "cell_type": "code",
   "execution_count": 26,
   "id": "ee950134",
   "metadata": {},
   "outputs": [
    {
     "name": "stdout",
     "output_type": "stream",
     "text": [
      "Hello Spam\n",
      "HelloSpam\n",
      "Hello Spam\n",
      "<class 'str'>\n"
     ]
    },
    {
     "data": {
      "text/plain": [
       "str"
      ]
     },
     "execution_count": 26,
     "metadata": {},
     "output_type": "execute_result"
    }
   ],
   "source": [
    "str1='Hello'\n",
    "str2='Spam'\n",
    "print (str1,str2)\n",
    "print (str1+str2)\n",
    "print (str1, str2, end='\\n')\n",
    "print(type(str1))\n",
    "type(str2)"
   ]
  },
  {
   "cell_type": "code",
   "execution_count": 48,
   "id": "0177a4fd",
   "metadata": {},
   "outputs": [
    {
     "name": "stdout",
     "output_type": "stream",
     "text": [
      "yth\n",
      "python\n"
     ]
    }
   ],
   "source": [
    "strin='python'\n",
    "print (strin[1:4]) #last value of range is excluded\n",
    "print (strin[-6:])"
   ]
  },
  {
   "cell_type": "code",
   "execution_count": 10,
   "id": "544b6ed3",
   "metadata": {},
   "outputs": [
    {
     "name": "stdout",
     "output_type": "stream",
     "text": [
      "Enter temprature: 32.132\n",
      "Enter the unit of temprature in C and F: C\n",
      "115.43760000000002\n"
     ]
    }
   ],
   "source": [
    "temp = float(input(\"Enter temprature: \"))\n",
    "a = input(\"Enter the unit of temprature in C and F: \")\n",
    "C = (temp-32)*5/9\n",
    "F = (temp+32)*9/5\n",
    "if (a == 'F'):\n",
    "    print (C)\n",
    "if (a == 'C'):\n",
    "    print (F)"
   ]
  },
  {
   "cell_type": "code",
   "execution_count": 20,
   "id": "37f81aa9",
   "metadata": {},
   "outputs": [
    {
     "name": "stdout",
     "output_type": "stream",
     "text": [
      "spameggs\n",
      "spamspamspam\n",
      "eggseggseggseggseggs\n",
      "spamspamspameggseggseggseggseggs\n",
      "4\n",
      "s p a m "
     ]
    }
   ],
   "source": [
    "stri1=\"spam\"\n",
    "stri2=\"eggs\"\n",
    "print (stri1+stri2)\n",
    "print (3*stri1)\n",
    "print (stri2*5)\n",
    "print ((3*stri1)+(stri2*5))\n",
    "print (len(stri1))\n",
    "for ch in stri1:\n",
    "    print (ch,end=\" \")"
   ]
  },
  {
   "cell_type": "code",
   "execution_count": 13,
   "id": "70bab8c7",
   "metadata": {},
   "outputs": [
    {
     "name": "stdout",
     "output_type": "stream",
     "text": [
      "['p', 'y', 'z', 'h', 'o', 'n']\n",
      "['python']\n"
     ]
    }
   ],
   "source": [
    "a=['p','y','t','h','o','n']\n",
    "b=[\"python\"]\n",
    "a[2]='z'\n",
    "print (a)\n",
    "print (b)"
   ]
  },
  {
   "cell_type": "code",
   "execution_count": 23,
   "id": "b6eb3089",
   "metadata": {},
   "outputs": [
    {
     "name": "stdout",
     "output_type": "stream",
     "text": [
      "[[1, 6, 3]]\n"
     ]
    }
   ],
   "source": [
    "ll=[[1,2,3]]\n",
    "ll[0][1]=6\n",
    "print (ll)"
   ]
  },
  {
   "cell_type": "code",
   "execution_count": 28,
   "id": "6ed97ca5",
   "metadata": {},
   "outputs": [
    {
     "name": "stdout",
     "output_type": "stream",
     "text": [
      "['w', 2, 't', 4, 'l', 'm', 1, 'o', 5, 'q', 'w', 2, 't', 4, 'l', 'm', 1, 'o', 5, 'q', 'w', 2, 't', 4, 'l', 'm', 1, 'o', 5, 'q', 'w', 2, 't', 4, 'l', 'm', 1, 'o', 5, 'q']\n"
     ]
    }
   ],
   "source": [
    "l1=['w',2,'t',4,'l']\n",
    "l2=['m',1,'o',5,'q']\n",
    "s1=\"qwerty\"\n",
    "print ((l1+l2)*4)"
   ]
  },
  {
   "cell_type": "code",
   "execution_count": 1,
   "id": "36141eba",
   "metadata": {},
   "outputs": [
    {
     "name": "stdout",
     "output_type": "stream",
     "text": [
      "5\n",
      "4\n",
      "3\n",
      "2\n",
      "1\n",
      "Blastoff!\n",
      "0\n"
     ]
    }
   ],
   "source": [
    "n=5\n",
    "while n>0:\n",
    "    print (n)\n",
    "    n= n-1\n",
    "print (\"Blastoff!\")\n",
    "print (n)"
   ]
  },
  {
   "cell_type": "code",
   "execution_count": 3,
   "id": "c9cb7f29",
   "metadata": {},
   "outputs": [
    {
     "name": "stdout",
     "output_type": "stream",
     "text": [
      "> hello there!\n",
      "hello there!\n",
      "> done\n",
      "Done!\n"
     ]
    }
   ],
   "source": [
    "while True:\n",
    "    line =input('> ')\n",
    "    if line =='done':\n",
    "        break\n",
    "    print (line)\n",
    "print ('Done!')    "
   ]
  },
  {
   "cell_type": "code",
   "execution_count": 5,
   "id": "15c1e558",
   "metadata": {},
   "outputs": [
    {
     "name": "stdout",
     "output_type": "stream",
     "text": [
      "> #rt\n",
      "> rty\n",
      "rty\n",
      "> ghj\n",
      "ghj\n",
      "> done\n",
      "Done!\n"
     ]
    }
   ],
   "source": [
    "while True:\n",
    "    line = input(\"> \")\n",
    "    if line[0] == '#':\n",
    "        continue\n",
    "    if line == 'done':\n",
    "        break\n",
    "    print (line)\n",
    "print(\"Done!\")\n",
    "    "
   ]
  },
  {
   "cell_type": "code",
   "execution_count": 6,
   "id": "3b8a01bb",
   "metadata": {},
   "outputs": [
    {
     "name": "stdout",
     "output_type": "stream",
     "text": [
      "5\n",
      "4\n",
      "3\n",
      "2\n",
      "1\n",
      "Blastoff!\n"
     ]
    }
   ],
   "source": [
    "# \"is\" == identity function\n",
    "# \"in\" == membership function\n",
    "for i in [5, 4, 3, 2, 1] :\n",
    "    print(i)\n",
    "print(\"Blastoff!\")"
   ]
  },
  {
   "cell_type": "code",
   "execution_count": 8,
   "id": "30f95aef",
   "metadata": {},
   "outputs": [
    {
     "name": "stdout",
     "output_type": "stream",
     "text": [
      "Happy New Year Joseph\n",
      "Happy New Year Glenn\n",
      "Happy New Year Sally\n"
     ]
    }
   ],
   "source": [
    "friends = ['Joseph', 'Glenn', 'Sally']\n",
    "for friend in friends :\n",
    "    print(\"Happy New Year\", friend)"
   ]
  },
  {
   "cell_type": "code",
   "execution_count": 17,
   "id": "8aba4978",
   "metadata": {},
   "outputs": [
    {
     "name": "stdout",
     "output_type": "stream",
     "text": [
      "74\n"
     ]
    }
   ],
   "source": [
    "list = [9, 41, 12, 3, 74, 15]\n",
    "g=0\n",
    "for i in list :\n",
    "    if g<i:\n",
    "        g=i\n",
    "print (g)    "
   ]
  },
  {
   "cell_type": "code",
   "execution_count": 29,
   "id": "7cbd1cc7",
   "metadata": {
    "scrolled": true
   },
   "outputs": [
    {
     "ename": "SyntaxError",
     "evalue": "invalid syntax (1297477006.py, line 2)",
     "output_type": "error",
     "traceback": [
      "\u001b[1;36m  Cell \u001b[1;32mIn [29], line 2\u001b[1;36m\u001b[0m\n\u001b[1;33m    for(i==1,i<==rows,i++)\u001b[0m\n\u001b[1;37m                ^\u001b[0m\n\u001b[1;31mSyntaxError\u001b[0m\u001b[1;31m:\u001b[0m invalid syntax\n"
     ]
    }
   ],
   "source": [
    "rows=int(input(\"Enter number of rows you want:\"))\n",
    "for(i==1,i<==rows,i++)\n",
    "for(j==1,j<==rows-i,j++)\n",
    "printf(\" \")\n",
    "for(k==1,k<==i,k++, l++)\n",
    "printf(\"%d \",l)\n",
    "printf(\"\\n\")"
   ]
  },
  {
   "cell_type": "code",
   "execution_count": 31,
   "id": "e87d1f61",
   "metadata": {},
   "outputs": [
    {
     "name": "stdout",
     "output_type": "stream",
     "text": [
      "range(0, 9)\n"
     ]
    }
   ],
   "source": [
    "print (range(9))"
   ]
  },
  {
   "cell_type": "code",
   "execution_count": 4,
   "id": "cd09a6fd",
   "metadata": {},
   "outputs": [
    {
     "name": "stdout",
     "output_type": "stream",
     "text": [
      "Enter the range of numbers to be printed12\n",
      "0\n",
      "1\n",
      "2\n",
      "3\n",
      "4\n",
      "5\n",
      "6\n",
      "7\n",
      "8\n",
      "9\n",
      "10\n",
      "11\n",
      "12\n"
     ]
    }
   ],
   "source": [
    "n=int(input(\"Enter the range of numbers to be printed\"))\n",
    "a=n+1\n",
    "for i in range (a):\n",
    "    print (i)"
   ]
  },
  {
   "cell_type": "code",
   "execution_count": 10,
   "id": "d64704ba",
   "metadata": {},
   "outputs": [
    {
     "name": "stdout",
     "output_type": "stream",
     "text": [
      "0.9642529012532627\n"
     ]
    }
   ],
   "source": [
    "import random\n",
    "random.seed()\n",
    "print(random.random())"
   ]
  },
  {
   "cell_type": "code",
   "execution_count": 8,
   "id": "790a7c4e",
   "metadata": {
    "scrolled": true
   },
   "outputs": [
    {
     "name": "stdout",
     "output_type": "stream",
     "text": [
      "0.23604808973743452\n",
      "0.23604808973743452\n"
     ]
    }
   ],
   "source": [
    "random.seed(4)\n",
    "print(random.random())\n",
    "random.seed(4)\n",
    "print(random.random())"
   ]
  },
  {
   "cell_type": "code",
   "execution_count": 3,
   "id": "d4a4ae6e",
   "metadata": {},
   "outputs": [
    {
     "name": "stdout",
     "output_type": "stream",
     "text": [
      "[1, 2, '3', 4]\n"
     ]
    }
   ],
   "source": [
    "list1=[1,2,\"3\",4]\n",
    "print(list1)"
   ]
  },
  {
   "cell_type": "code",
   "execution_count": 12,
   "id": "af2127e2",
   "metadata": {},
   "outputs": [
    {
     "name": "stdout",
     "output_type": "stream",
     "text": [
      "[1, 4, '3', 4]\n"
     ]
    }
   ],
   "source": [
    "list1[1]=4\n",
    "print(list1)"
   ]
  },
  {
   "cell_type": "code",
   "execution_count": 15,
   "id": "3ace1721",
   "metadata": {},
   "outputs": [
    {
     "name": "stdout",
     "output_type": "stream",
     "text": [
      "[1, 5, 9, 4]\n"
     ]
    }
   ],
   "source": [
    "list1[1:3]=[5,9]\n",
    "print(list1)"
   ]
  },
  {
   "cell_type": "code",
   "execution_count": 4,
   "id": "058a5325",
   "metadata": {},
   "outputs": [
    {
     "name": "stdout",
     "output_type": "stream",
     "text": [
      "[1, 2, '3', 4, 595]\n"
     ]
    }
   ],
   "source": [
    "list1.append(619-24)\n",
    "print(list1)"
   ]
  },
  {
   "cell_type": "code",
   "execution_count": 21,
   "id": "24162025",
   "metadata": {},
   "outputs": [
    {
     "name": "stdout",
     "output_type": "stream",
     "text": [
      "[1, 5, 9, 4, 619, 643]\n"
     ]
    }
   ],
   "source": [
    "del(list1[6:8])\n",
    "print(list1)"
   ]
  },
  {
   "cell_type": "code",
   "execution_count": 22,
   "id": "4904b01b",
   "metadata": {},
   "outputs": [
    {
     "name": "stdout",
     "output_type": "stream",
     "text": [
      "[1, 2, 3, 7, 5, 6]\n"
     ]
    }
   ],
   "source": [
    "print([1,2,3]+[7,5,6])"
   ]
  },
  {
   "cell_type": "code",
   "execution_count": 25,
   "id": "463d73c5",
   "metadata": {
    "scrolled": true
   },
   "outputs": [
    {
     "name": "stdout",
     "output_type": "stream",
     "text": [
      "[1, 2, 3, 4, 5, 6]\n"
     ]
    }
   ],
   "source": [
    "l1=[1,2,3]\n",
    "l2=[4,5,6]\n",
    "print(l1+l2)"
   ]
  },
  {
   "cell_type": "code",
   "execution_count": 34,
   "id": "9368e5f7",
   "metadata": {},
   "outputs": [
    {
     "name": "stdout",
     "output_type": "stream",
     "text": [
      "[1, 2, 3, 'a', 'b', 'c']\n"
     ]
    }
   ],
   "source": [
    "l1=[1,2,3]\n",
    "l2=[\"a\",\"b\",\"c\"]\n",
    "l1.extend(l2)#it concatinates on the applied list, rather than making third list like in +\n",
    "print(l1)"
   ]
  },
  {
   "cell_type": "code",
   "execution_count": 20,
   "id": "3cba2e50",
   "metadata": {},
   "outputs": [
    {
     "data": {
      "text/plain": [
       "1"
      ]
     },
     "execution_count": 20,
     "metadata": {},
     "output_type": "execute_result"
    }
   ],
   "source": [
    "l1=[123,\"xyz\",234,\"xyz\"]\n",
    "#returns the lowest index of the object of the list\n",
    "l1.index(\"xyz\")"
   ]
  },
  {
   "cell_type": "code",
   "execution_count": 22,
   "id": "822804ec",
   "metadata": {},
   "outputs": [
    {
     "name": "stdout",
     "output_type": "stream",
     "text": [
      "[123, 'xyz', 234, 2204, 'xyz']\n"
     ]
    }
   ],
   "source": [
    "l1.insert(3,2204)#inserts an object in list at the given index\n",
    "print (l1)"
   ]
  },
  {
   "cell_type": "code",
   "execution_count": 18,
   "id": "f6fbdbcc",
   "metadata": {},
   "outputs": [
    {
     "name": "stdout",
     "output_type": "stream",
     "text": [
      "xyz\n",
      "[123, 'xyz', 234, 2204]\n"
     ]
    }
   ],
   "source": [
    "print(l1.pop())#removes last element from the list and print it(offset index is optional)\n",
    "print (l1)"
   ]
  },
  {
   "cell_type": "code",
   "execution_count": 19,
   "id": "8d6abc8a",
   "metadata": {},
   "outputs": [
    {
     "name": "stdout",
     "output_type": "stream",
     "text": [
      "[123, 'xyz', 234]\n"
     ]
    }
   ],
   "source": [
    "l1.remove(2204)#removes a particular object from list by object as a reference\n",
    "print (l1)"
   ]
  },
  {
   "cell_type": "code",
   "execution_count": 24,
   "id": "ef0f7b35",
   "metadata": {},
   "outputs": [
    {
     "name": "stdout",
     "output_type": "stream",
     "text": [
      "['xyz', 2204, 234, 'xyz', 123]\n"
     ]
    }
   ],
   "source": [
    "l1.reverse()\n",
    "print (l1)"
   ]
  },
  {
   "cell_type": "code",
   "execution_count": 17,
   "id": "cf20a22d",
   "metadata": {},
   "outputs": [
    {
     "name": "stdout",
     "output_type": "stream",
     "text": [
      "[201, 145, 123, 46]\n"
     ]
    }
   ],
   "source": [
    "l2=[123,46,145,201]\n",
    "l2.sort(reverse=True)\n",
    "print (l2)"
   ]
  },
  {
   "cell_type": "code",
   "execution_count": 6,
   "id": "4cf5d22d",
   "metadata": {
    "scrolled": true
   },
   "outputs": [
    {
     "name": "stdout",
     "output_type": "stream",
     "text": [
      " python hello\n"
     ]
    }
   ],
   "source": [
    "#Write a program to swap two strings\n",
    "l1=\"hello python\"\n",
    "a=l1[0:5]\n",
    "b=l1[5:12]\n",
    "print (b+\" \"+a)"
   ]
  },
  {
   "cell_type": "code",
   "execution_count": 40,
   "id": "3ff8481d",
   "metadata": {},
   "outputs": [
    {
     "name": "stdout",
     "output_type": "stream",
     "text": [
      "going  school\n"
     ]
    }
   ],
   "source": [
    "str1=\"I am going to school\"\n",
    "a=str1[0:1]\n",
    "b=str1[2:4]\n",
    "c=str1[5:10]\n",
    "d=str1[10:12]\n",
    "e=str1[13:21]\n",
    "print(c+\" \"+e)"
   ]
  },
  {
   "cell_type": "code",
   "execution_count": 29,
   "id": "ffc15188",
   "metadata": {},
   "outputs": [
    {
     "name": "stdout",
     "output_type": "stream",
     "text": [
      "['a', 'b', 'c']\n",
      "['f', 'g', 'h']\n",
      "['f', 'g', 'h', 'i', 'j']\n"
     ]
    }
   ],
   "source": [
    "#Make a list of first ten letters of the alphabets, then use the slicling to do the following operations:\n",
    "#1) Print the first three letters in the list\n",
    "#2) Print any three letters from the middle\n",
    "#3) Print the letter from any particular index to the end of the list\n",
    "l1=['a','b','c','d','e','f','g','h','i','j']\n",
    "\n",
    "#1) Print the first three letters in the list\n",
    "print(l1[0:3])\n",
    "#2) Print any three letters from the middle\n",
    "print(l1[int((len(l1)/2)):int((len(l1)/2)+3)])\n",
    "#3) Print the letter from any particular index to the end of the list\n",
    "print (l1[5:])"
   ]
  },
  {
   "cell_type": "code",
   "execution_count": 6,
   "id": "fb799423",
   "metadata": {},
   "outputs": [
    {
     "name": "stdout",
     "output_type": "stream",
     "text": [
      "{'Name': 'Ram', 'Roll No': 101}\n",
      "Ram\n"
     ]
    }
   ],
   "source": [
    "dict1={'Name':'Ram','Roll No':101}# Name and Roll No are keys\n",
    "print (dict1)\n",
    "print (dict1['Name'])#Every key is associated with its ltem value"
   ]
  },
  {
   "cell_type": "code",
   "execution_count": 8,
   "id": "c6b9a839",
   "metadata": {},
   "outputs": [
    {
     "name": "stdout",
     "output_type": "stream",
     "text": [
      "{'Name': 'Rohan', 'Roll No': 101}\n",
      "{'Name': 'Rohan', 'Roll No': 101, 'Course': 'BCA'}\n"
     ]
    }
   ],
   "source": [
    "dict1['Name']='Rohan'#Updation of value of a key in dictionary\n",
    "print (dict1)\n",
    "dict1['Course']='BCA'#Insertion in dictionary\n",
    "print (dict1)"
   ]
  },
  {
   "cell_type": "code",
   "execution_count": 9,
   "id": "357c1412",
   "metadata": {},
   "outputs": [
    {
     "name": "stdout",
     "output_type": "stream",
     "text": [
      "{'Name': 'Rohan', 'Roll No': 101}\n"
     ]
    }
   ],
   "source": [
    "del dict1['Course']#Deletion using key value\n",
    "print (dict1)"
   ]
  },
  {
   "cell_type": "code",
   "execution_count": 21,
   "id": "2aff594c",
   "metadata": {},
   "outputs": [
    {
     "name": "stdout",
     "output_type": "stream",
     "text": [
      "Enter your email address:foxy2034@gmail.com\n",
      "{'gmail.com', 'foxy2034'}\n"
     ]
    }
   ],
   "source": [
    "#Write a program that scans an email address and forms a tuple of user name and domain\n",
    "emads=input(\"Enter your email address:\")\n",
    "a=emads.index(\"@\")\n",
    "tpl={emads[0:a],emads[(a+1):len(emads)]}\n",
    "print (tpl)"
   ]
  },
  {
   "cell_type": "code",
   "execution_count": 8,
   "id": "3caa2fcc",
   "metadata": {},
   "outputs": [
    {
     "name": "stdout",
     "output_type": "stream",
     "text": [
      "Enter no. of rows4\n",
      "   1\n",
      "  212\n",
      " 32123\n",
      "4321234\n"
     ]
    }
   ],
   "source": [
    "row = int(input('Enter no. of rows'))\n",
    "for i in range(1,row+1):  \n",
    "    for j in range(1, row+1-i):\n",
    "        print(' ', end='')\n",
    "    for j in range(i,0,-1):\n",
    "        print(j, end='')\n",
    "    for j in range(2,i+1):\n",
    "        print(j, end='')\n",
    "    print()"
   ]
  },
  {
   "cell_type": "code",
   "execution_count": 1,
   "id": "e8f30218",
   "metadata": {},
   "outputs": [
    {
     "name": "stdout",
     "output_type": "stream",
     "text": [
      "{'1': 'abc', 2: 'xyz'}\n"
     ]
    }
   ],
   "source": [
    "dict1={'1':'abc',2:'xyz'}\n",
    "print (dict1)"
   ]
  },
  {
   "cell_type": "code",
   "execution_count": 2,
   "id": "ff1dd78f",
   "metadata": {},
   "outputs": [
    {
     "name": "stdout",
     "output_type": "stream",
     "text": [
      "2\n"
     ]
    }
   ],
   "source": [
    "print (len(dict1))"
   ]
  },
  {
   "cell_type": "code",
   "execution_count": 3,
   "id": "04301f20",
   "metadata": {},
   "outputs": [
    {
     "name": "stdout",
     "output_type": "stream",
     "text": [
      "{}\n"
     ]
    }
   ],
   "source": [
    "dict1.clear()\n",
    "print (dict1)"
   ]
  },
  {
   "cell_type": "code",
   "execution_count": 4,
   "id": "cd1cf2c4",
   "metadata": {},
   "outputs": [
    {
     "name": "stdout",
     "output_type": "stream",
     "text": [
      "{1: 'abc', 2: 'xyz'}\n"
     ]
    }
   ],
   "source": [
    "dict1={1:'abc',2:'xyz'}\n",
    "dict2=dict1.copy()\n",
    "print (dict2)"
   ]
  },
  {
   "cell_type": "code",
   "execution_count": 5,
   "id": "0709c3f0",
   "metadata": {},
   "outputs": [
    {
     "name": "stdout",
     "output_type": "stream",
     "text": [
      "xyz\n"
     ]
    }
   ],
   "source": [
    "print (dict1.get(2))"
   ]
  },
  {
   "cell_type": "code",
   "execution_count": 6,
   "id": "7140b8cf",
   "metadata": {},
   "outputs": [
    {
     "name": "stdout",
     "output_type": "stream",
     "text": [
      "{5: 'hy', 1: 'abc', 2: 'xyz'}\n"
     ]
    }
   ],
   "source": [
    "dict3={5:'hy'}\n",
    "dict3.update(dict1)\n",
    "print (dict3)"
   ]
  },
  {
   "cell_type": "code",
   "execution_count": 1,
   "id": "19734817",
   "metadata": {
    "scrolled": true
   },
   "outputs": [
    {
     "name": "stdout",
     "output_type": "stream",
     "text": [
      "Enter the month name like jan feb etcFeb\n",
      "28\n",
      "('Apr', 30)\n",
      "('Aug', 31)\n",
      "('Dec', 31)\n",
      "('Feb', 28)\n",
      "('Jan', 31)\n",
      "('Jul', 31)\n",
      "('Jun', 30)\n",
      "('Mar', 31)\n",
      "('May', 31)\n",
      "('Nov', 30)\n",
      "('Oct', 31)\n",
      "('Sep', 30)\n"
     ]
    }
   ],
   "source": [
    "#Create a dictionary whose keys are month names and whose values are the number of days in the corrresponding month\n",
    "#1)ask a user to enter the month name and use the dictonary to tell them how many days are in the month\n",
    "#2)print out all the keys in alphabetical order\n",
    "dicti1={'Jan':31,'Feb':28,'Mar':31,'Apr':30,'May':31,'Jun':30,'Jul':31,'Aug':31,'Sep':30,'Oct':31,'Nov':30,'Dec':31}\n",
    "a=input(\"Enter the month name like jan feb etc\")\n",
    "print (dicti1.get(a))\n",
    "for key in sorted(dicti1.keys()):\n",
    "    print ((key, dicti1[key]))"
   ]
  },
  {
   "cell_type": "code",
   "execution_count": 20,
   "id": "77be562d",
   "metadata": {},
   "outputs": [
    {
     "name": "stdout",
     "output_type": "stream",
     "text": [
      "1296\n"
     ]
    }
   ],
   "source": [
    "#Write a program to find the product of all elements of a list\n",
    "ll=[2,4,6,3,9]\n",
    "p=1\n",
    "for n in range(0,len(ll)):\n",
    "    p=p*ll[n]\n",
    "print (p)"
   ]
  },
  {
   "cell_type": "code",
   "execution_count": 22,
   "id": "0e32bfc4",
   "metadata": {},
   "outputs": [
    {
     "name": "stdout",
     "output_type": "stream",
     "text": [
      "17\n"
     ]
    }
   ],
   "source": [
    "#for even index sum\n",
    "sum=0\n",
    "for i in range(len(ll)):\n",
    "    if(i%2==0):\n",
    "        sum=sum+ll[i]\n",
    "print (sum)"
   ]
  },
  {
   "cell_type": "code",
   "execution_count": 29,
   "id": "06343b96",
   "metadata": {},
   "outputs": [
    {
     "name": "stdout",
     "output_type": "stream",
     "text": [
      "[8, 10, 12, 14, 16, 18]\n"
     ]
    }
   ],
   "source": [
    "#Given two list l1 and l2\n",
    "l1=[1,2,3,4,5,6]\n",
    "l2=[7,8,9,10,11,12]\n",
    "l3=[0,0,0,0,0,0]\n",
    "for i in range(0,len(l1)):\n",
    "        l3[i]=l1[i]+l2[i]\n",
    "print (l3)"
   ]
  },
  {
   "cell_type": "code",
   "execution_count": 42,
   "id": "68fb8a6b",
   "metadata": {},
   "outputs": [
    {
     "name": "stdout",
     "output_type": "stream",
     "text": [
      "['c', 'c', 'c']\n"
     ]
    }
   ],
   "source": [
    "#Create a dictionary and convert it into list\n",
    "dict12={'a':12,'b':23,'c':76}\n",
    "l4=[0,0,0]\n",
    "s=0\n",
    "for i in range(0,len(l4)):\n",
    "    for key in(dict12.keys()):\n",
    "        l4[i]=key\n",
    "print (l4)"
   ]
  },
  {
   "cell_type": "code",
   "execution_count": 7,
   "id": "15f71c2e",
   "metadata": {},
   "outputs": [
    {
     "name": "stdout",
     "output_type": "stream",
     "text": [
      "[3, 4]\n",
      "[4, 5]\n"
     ]
    }
   ],
   "source": [
    "#Print al the elements of the list starting from the index 3\n",
    "lw=[1,2,3,4,5]\n",
    "print (lw[-3:-1])#Slicing using Negative Indexing\n",
    "print (lw[3:])"
   ]
  },
  {
   "cell_type": "code",
   "execution_count": 10,
   "id": "940eb3fd",
   "metadata": {},
   "outputs": [
    {
     "name": "stdout",
     "output_type": "stream",
     "text": [
      "Enter a number4\n",
      "Not Found!\n"
     ]
    }
   ],
   "source": [
    "#Write a program to chech whether the number taken from user exist in the list or not\n",
    "num=int(input(\"Enter a number\"))\n",
    "l1=[2,4,6,8,10]\n",
    "for i in range(len(l1)):\n",
    "    if(l1[i]==num):\n",
    "        print (\"Number exist in the list!\")\n",
    "        break\n",
    "    else:\n",
    "        print (\"Not Found!\")\n",
    "        break"
   ]
  },
  {
   "cell_type": "code",
   "execution_count": 28,
   "id": "a9633387",
   "metadata": {},
   "outputs": [
    {
     "name": "stdout",
     "output_type": "stream",
     "text": [
      "They are same!\n"
     ]
    }
   ],
   "source": [
    "#Given two list check whether they are same or not\n",
    "l1=[2,3,4,5]\n",
    "l2=[2,3,4,5]\n",
    "if(l1==l2):\n",
    "    print (\"They are same!\")\n",
    "else:\n",
    "    print (\"Lists are not same!\")"
   ]
  },
  {
   "cell_type": "code",
   "execution_count": 35,
   "id": "9c47d50a",
   "metadata": {},
   "outputs": [
    {
     "name": "stdout",
     "output_type": "stream",
     "text": [
      "10\n",
      "9\n",
      "8\n",
      "7\n",
      "6\n",
      "5\n",
      "4\n",
      "3\n",
      "2\n",
      "1\n"
     ]
    }
   ],
   "source": [
    "#Write a program to print first 10 natural numbers\n",
    "i=10\n",
    "while(i>=1):\n",
    "    print (i)\n",
    "    i-=1"
   ]
  },
  {
   "cell_type": "code",
   "execution_count": 9,
   "id": "eb25605f",
   "metadata": {},
   "outputs": [
    {
     "name": "stdout",
     "output_type": "stream",
     "text": [
      "2550\n"
     ]
    }
   ],
   "source": [
    "#Write a program to find the sum of all even numbers between 1 to 100\n",
    "a=0\n",
    "for i in range(1,101):\n",
    "    if(i%2==0):\n",
    "        a+=i\n",
    "print (a)"
   ]
  },
  {
   "cell_type": "code",
   "execution_count": 14,
   "id": "c5ee811e",
   "metadata": {},
   "outputs": [
    {
     "name": "stdout",
     "output_type": "stream",
     "text": [
      "Enter a number123\n",
      "6\n"
     ]
    }
   ],
   "source": [
    "#Write a program to find the sum of all digits of a number\n",
    "sum=0\n",
    "a=int(input(\"Enter a number\"))\n",
    "while(a>0):\n",
    "    m=a%10\n",
    "    sum=sum+m\n",
    "    a=int(a/10)\n",
    "print (sum)"
   ]
  },
  {
   "cell_type": "code",
   "execution_count": 20,
   "id": "22cc3367",
   "metadata": {},
   "outputs": [
    {
     "name": "stdout",
     "output_type": "stream",
     "text": [
      "Enter a number234\n",
      "432\n"
     ]
    }
   ],
   "source": [
    "#Write a program to reverse a given number\n",
    "s=0\n",
    "a=int(input(\"Enter a number\"))\n",
    "while(a>0):\n",
    "    m=a%10\n",
    "    s=s*10+m\n",
    "    a=int(a/10)\n",
    "print (s)"
   ]
  },
  {
   "cell_type": "code",
   "execution_count": null,
   "id": "fa3dfb4f",
   "metadata": {},
   "outputs": [],
   "source": []
  }
 ],
 "metadata": {
  "kernelspec": {
   "display_name": "Python 3 (ipykernel)",
   "language": "python",
   "name": "python3"
  },
  "language_info": {
   "codemirror_mode": {
    "name": "ipython",
    "version": 3
   },
   "file_extension": ".py",
   "mimetype": "text/x-python",
   "name": "python",
   "nbconvert_exporter": "python",
   "pygments_lexer": "ipython3",
   "version": "3.10.7"
  }
 },
 "nbformat": 4,
 "nbformat_minor": 5
}
