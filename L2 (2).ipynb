{
 "cells": [
  {
   "cell_type": "code",
   "execution_count": 1,
   "id": "cd0e6502",
   "metadata": {},
   "outputs": [
    {
     "name": "stdout",
     "output_type": "stream",
     "text": [
      "Hello World\n"
     ]
    }
   ],
   "source": [
    "print(\"Hello World\")"
   ]
  },
  {
   "cell_type": "code",
   "execution_count": 2,
   "id": "e7e127de",
   "metadata": {},
   "outputs": [
    {
     "ename": "SyntaxError",
     "evalue": "Missing parentheses in call to 'print'. Did you mean print(\"Hello World\")? (796388850.py, line 1)",
     "output_type": "error",
     "traceback": [
      "\u001b[1;36m  Cell \u001b[1;32mIn [2], line 1\u001b[1;36m\u001b[0m\n\u001b[1;33m    print \"Hello World\"\u001b[0m\n\u001b[1;37m          ^\u001b[0m\n\u001b[1;31mSyntaxError\u001b[0m\u001b[1;31m:\u001b[0m Missing parentheses in call to 'print'. Did you mean print(\"Hello World\")?\n"
     ]
    }
   ],
   "source": [
    "print \"Hello World\""
   ]
  },
  {
   "cell_type": "markdown",
   "id": "f12c18a6",
   "metadata": {},
   "source": [
    "### Direct Calculations in Python"
   ]
  },
  {
   "cell_type": "code",
   "execution_count": 4,
   "id": "9d485b22",
   "metadata": {},
   "outputs": [
    {
     "data": {
      "text/plain": [
       "7"
      ]
     },
     "execution_count": 4,
     "metadata": {},
     "output_type": "execute_result"
    }
   ],
   "source": [
    "3+4"
   ]
  },
  {
   "cell_type": "code",
   "execution_count": 7,
   "id": "42691f5e",
   "metadata": {},
   "outputs": [
    {
     "data": {
      "text/plain": [
       "9.0"
      ]
     },
     "execution_count": 7,
     "metadata": {},
     "output_type": "execute_result"
    }
   ],
   "source": [
    "(6+9)/3 + 4"
   ]
  },
  {
   "cell_type": "markdown",
   "id": "b4488278",
   "metadata": {},
   "source": [
    "### Single line comment"
   ]
  },
  {
   "cell_type": "code",
   "execution_count": 3,
   "id": "a10688c0",
   "metadata": {},
   "outputs": [
    {
     "name": "stdout",
     "output_type": "stream",
     "text": [
      "Comment not printed\n"
     ]
    }
   ],
   "source": [
    "# This is a single line comment in Python\n",
    "\n",
    "print(\"Comment not printed\")"
   ]
  },
  {
   "cell_type": "markdown",
   "id": "9162a993",
   "metadata": {},
   "source": [
    "### Multi-line comment"
   ]
  },
  {
   "cell_type": "code",
   "execution_count": 1,
   "id": "e73e8638",
   "metadata": {},
   "outputs": [],
   "source": [
    "# This is \n",
    "# a comment spanning\n",
    "# multiple lines"
   ]
  },
  {
   "cell_type": "code",
   "execution_count": 3,
   "id": "31785f4d",
   "metadata": {},
   "outputs": [
    {
     "data": {
      "text/plain": [
       "'\\nThis is also a comment spanning multiple lines '"
      ]
     },
     "execution_count": 3,
     "metadata": {},
     "output_type": "execute_result"
    }
   ],
   "source": [
    "'''\n",
    "This is also a \\\n",
    "comment spanning \\\n",
    "multiple lines \\\n",
    "'''"
   ]
  },
  {
   "cell_type": "markdown",
   "id": "7b7d4e13",
   "metadata": {},
   "source": [
    "### Python Keywords"
   ]
  },
  {
   "cell_type": "code",
   "execution_count": 12,
   "id": "9ef0d27f",
   "metadata": {},
   "outputs": [
    {
     "data": {
      "text/plain": [
       "False"
      ]
     },
     "execution_count": 12,
     "metadata": {},
     "output_type": "execute_result"
    }
   ],
   "source": [
    "#Some examples of Python Keywords\n",
    "\n",
    "False\n",
    "false\n",
    "\n",
    "True\n",
    "true\n",
    "\n",
    "for\n",
    "\n",
    "def\n",
    "\n",
    "in\n",
    "\n",
    "and\n",
    "if\n",
    "else\n",
    "Else"
   ]
  },
  {
   "cell_type": "markdown",
   "id": "499b27af",
   "metadata": {},
   "source": [
    "### Python Identifiers"
   ]
  },
  {
   "cell_type": "code",
   "execution_count": 14,
   "id": "fc50544f",
   "metadata": {},
   "outputs": [],
   "source": [
    "abc = 3"
   ]
  },
  {
   "cell_type": "code",
   "execution_count": 18,
   "id": "db8ace8f",
   "metadata": {},
   "outputs": [],
   "source": [
    "Abc = 5"
   ]
  },
  {
   "cell_type": "code",
   "execution_count": 15,
   "id": "4d7ae43c",
   "metadata": {},
   "outputs": [
    {
     "ename": "SyntaxError",
     "evalue": "invalid syntax (258518375.py, line 1)",
     "output_type": "error",
     "traceback": [
      "\u001b[1;36m  Cell \u001b[1;32mIn [15], line 1\u001b[1;36m\u001b[0m\n\u001b[1;33m    2xy = 8\u001b[0m\n\u001b[1;37m     ^\u001b[0m\n\u001b[1;31mSyntaxError\u001b[0m\u001b[1;31m:\u001b[0m invalid syntax\n"
     ]
    }
   ],
   "source": [
    "2xy = 8"
   ]
  },
  {
   "cell_type": "code",
   "execution_count": 17,
   "id": "d077b563",
   "metadata": {},
   "outputs": [],
   "source": [
    "x2y = 6.9"
   ]
  },
  {
   "cell_type": "code",
   "execution_count": 16,
   "id": "7fe7b9bc",
   "metadata": {},
   "outputs": [],
   "source": [
    "_ty = \"valid\""
   ]
  },
  {
   "cell_type": "code",
   "execution_count": 20,
   "id": "775e750f",
   "metadata": {},
   "outputs": [
    {
     "ename": "SyntaxError",
     "evalue": "invalid syntax (1038466189.py, line 1)",
     "output_type": "error",
     "traceback": [
      "\u001b[1;36m  Cell \u001b[1;32mIn [20], line 1\u001b[1;36m\u001b[0m\n\u001b[1;33m    ty@ = \"invalid\"\u001b[0m\n\u001b[1;37m        ^\u001b[0m\n\u001b[1;31mSyntaxError\u001b[0m\u001b[1;31m:\u001b[0m invalid syntax\n"
     ]
    }
   ],
   "source": [
    "ty@ = \"invalid\""
   ]
  },
  {
   "cell_type": "code",
   "execution_count": 21,
   "id": "f6c58ac7",
   "metadata": {},
   "outputs": [
    {
     "ename": "SyntaxError",
     "evalue": "invalid syntax (2848959606.py, line 1)",
     "output_type": "error",
     "traceback": [
      "\u001b[1;36m  Cell \u001b[1;32mIn [21], line 1\u001b[1;36m\u001b[0m\n\u001b[1;33m    $gh = True\u001b[0m\n\u001b[1;37m    ^\u001b[0m\n\u001b[1;31mSyntaxError\u001b[0m\u001b[1;31m:\u001b[0m invalid syntax\n"
     ]
    }
   ],
   "source": [
    "$gh = True"
   ]
  },
  {
   "cell_type": "markdown",
   "id": "483cceec",
   "metadata": {},
   "source": [
    "### Multiline Statements"
   ]
  },
  {
   "cell_type": "code",
   "execution_count": 4,
   "id": "6ebf46f5",
   "metadata": {},
   "outputs": [
    {
     "name": "stdout",
     "output_type": "stream",
     "text": [
      "<class 'int'>\n"
     ]
    }
   ],
   "source": [
    "item_one = 1\n",
    "item_two = 2\n",
    "item_three = 3\n",
    "\n",
    "total = item_one + \\\n",
    "        item_two + \\\n",
    "        item_three \n",
    "\n",
    "total\n",
    "print(type(item_three))"
   ]
  },
  {
   "cell_type": "code",
   "execution_count": 25,
   "id": "2b8e31ac",
   "metadata": {},
   "outputs": [],
   "source": [
    "days = ['Monday', 'Tuesday', 'Wednesday', \n",
    "        'Thursday', 'Friday'] "
   ]
  },
  {
   "cell_type": "markdown",
   "id": "fdcbce0b",
   "metadata": {},
   "source": [
    "### Indentation"
   ]
  },
  {
   "cell_type": "code",
   "execution_count": 30,
   "id": "5708edbf",
   "metadata": {},
   "outputs": [
    {
     "name": "stdout",
     "output_type": "stream",
     "text": [
      "False\n"
     ]
    }
   ],
   "source": [
    "if (2==2+1): \n",
    "    print(\"True\")\n",
    "else: \n",
    "            print(\"False\")"
   ]
  },
  {
   "cell_type": "markdown",
   "id": "a65e40af",
   "metadata": {},
   "source": [
    "### String Quotations"
   ]
  },
  {
   "cell_type": "code",
   "execution_count": 31,
   "id": "e77389d4",
   "metadata": {},
   "outputs": [],
   "source": [
    "word = 'word' \n",
    "sentence = \"This is a sentence.\" \n",
    "paragraph = \"\"\"This is a paragraph. It is made up of multiple lines and sentences.\"\"\" "
   ]
  },
  {
   "cell_type": "code",
   "execution_count": 33,
   "id": "68dee7d2",
   "metadata": {},
   "outputs": [
    {
     "ename": "SyntaxError",
     "evalue": "EOL while scanning string literal (142354662.py, line 1)",
     "output_type": "error",
     "traceback": [
      "\u001b[1;36m  Cell \u001b[1;32mIn [33], line 1\u001b[1;36m\u001b[0m\n\u001b[1;33m    word = 'a single\u001b[0m\n\u001b[1;37m                    ^\u001b[0m\n\u001b[1;31mSyntaxError\u001b[0m\u001b[1;31m:\u001b[0m EOL while scanning string literal\n"
     ]
    }
   ],
   "source": [
    "word = 'a single\n",
    "        word' "
   ]
  },
  {
   "cell_type": "code",
   "execution_count": 34,
   "id": "25301006",
   "metadata": {},
   "outputs": [
    {
     "ename": "SyntaxError",
     "evalue": "EOL while scanning string literal (4256634102.py, line 1)",
     "output_type": "error",
     "traceback": [
      "\u001b[1;36m  Cell \u001b[1;32mIn [34], line 1\u001b[1;36m\u001b[0m\n\u001b[1;33m    sentence = \"This is a\u001b[0m\n\u001b[1;37m                          ^\u001b[0m\n\u001b[1;31mSyntaxError\u001b[0m\u001b[1;31m:\u001b[0m EOL while scanning string literal\n"
     ]
    }
   ],
   "source": [
    "sentence = \"This is a \n",
    "            sentence.\" "
   ]
  },
  {
   "cell_type": "code",
   "execution_count": 5,
   "id": "e89bbb35",
   "metadata": {},
   "outputs": [],
   "source": [
    "paragraph = \"\"\"This is a paragraph. It is made up of \n",
    "                multiple lines and \n",
    "                sentences.\"\"\" "
   ]
  },
  {
   "cell_type": "code",
   "execution_count": 6,
   "id": "2c7c6582",
   "metadata": {},
   "outputs": [
    {
     "data": {
      "text/plain": [
       "'This is a paragraph. It is made up of \\n                multiple lines and \\n                sentences.'"
      ]
     },
     "execution_count": 6,
     "metadata": {},
     "output_type": "execute_result"
    }
   ],
   "source": [
    "paragraph"
   ]
  },
  {
   "cell_type": "code",
   "execution_count": 9,
   "id": "d695ab20",
   "metadata": {},
   "outputs": [
    {
     "name": "stdout",
     "output_type": "stream",
     "text": [
      "2473679574720\n",
      "2473679573440\n",
      "True\n",
      "False\n"
     ]
    }
   ],
   "source": [
    "a=10\n",
    "b=10\n",
    "x=['a','b']\n",
    "y=['a','b']\n",
    "#print (id(a))\n",
    "#print (id(b))\n",
    "print (id(x))\n",
    "print (id(y))\n",
    "print (x==y)\n",
    "print (x is y)"
   ]
  },
  {
   "cell_type": "code",
   "execution_count": 13,
   "id": "400bae69",
   "metadata": {},
   "outputs": [
    {
     "name": "stdout",
     "output_type": "stream",
     "text": [
      "True\n",
      "True\n",
      "False\n"
     ]
    }
   ],
   "source": [
    "l=['sem',3,'shift',1]\n",
    "c='sem'\n",
    "print (c in l)\n",
    "print (3 in l)\n",
    "print ('shift' not in l)"
   ]
  },
  {
   "cell_type": "code",
   "execution_count": 21,
   "id": "465420b5",
   "metadata": {},
   "outputs": [
    {
     "name": "stdout",
     "output_type": "stream",
     "text": [
      "34\n",
      "Failed!\n"
     ]
    }
   ],
   "source": [
    "m=int(input())\n",
    "if(100>=m>=90):\n",
    "    print (\"A Grade\")\n",
    "elif(90>m>=80):\n",
    "    print (\"B Grade\")\n",
    "elif(80>m>=70):\n",
    "    print (\"C Grade\")\n",
    "elif(70>m>=60):\n",
    "    print (\"D Grade\")\n",
    "elif(60>m>=50):\n",
    "    print (\"E Grade\")\n",
    "else:\n",
    "    print (\"Failed!\")"
   ]
  },
  {
   "cell_type": "code",
   "execution_count": 23,
   "id": "14f71a3a",
   "metadata": {},
   "outputs": [
    {
     "name": "stdout",
     "output_type": "stream",
     "text": [
      "2\n",
      "5\n",
      "Enter the arithmatic operation :45\n",
      "Wrong Input!\n"
     ]
    }
   ],
   "source": [
    "a = int(input())\n",
    "b = float(input())\n",
    "d = input(\"Enter the arithmatic operation :\")\n",
    "if (d == \"Add\"):\n",
    "    print(a+b)\n",
    "elif (d == \"Sub\"):\n",
    "    print(a-b)\n",
    "elif (d == \"Multi\"):\n",
    "    print(a*b)\n",
    "elif (d == \"Div\"):\n",
    "    print(a/b)\n",
    "elif (d == \"Intdiv\"):\n",
    "    print(a//b)\n",
    "elif(d == \"Sqr\"):\n",
    "    print(a**b)\n",
    "else:\n",
    "    print(\"Wrong Input!\")\n",
    "    "
   ]
  },
  {
   "cell_type": "code",
   "execution_count": 2,
   "id": "029a99d2",
   "metadata": {},
   "outputs": [
    {
     "name": "stdout",
     "output_type": "stream",
     "text": [
      "mary\n"
     ]
    }
   ],
   "source": [
    "str1='Mary'\n",
    "str2='Mark'\n",
    "if(str1>str2):\n",
    "    print (str1)\n",
    "else:\n",
    "    print (str2)"
   ]
  },
  {
   "cell_type": "code",
   "execution_count": 3,
   "id": "7a9984b1",
   "metadata": {},
   "outputs": [
    {
     "name": "stdout",
     "output_type": "stream",
     "text": [
      "mark\n"
     ]
    }
   ],
   "source": [
    "str1='Mark'\n",
    "str2='mark'\n",
    "if(str1>str2):\n",
    "    print (str1)\n",
    "else:\n",
    "    print (str2)"
   ]
  },
  {
   "cell_type": "code",
   "execution_count": 4,
   "id": "7c09696c",
   "metadata": {},
   "outputs": [
    {
     "name": "stdout",
     "output_type": "stream",
     "text": [
      "marks\n"
     ]
    }
   ],
   "source": [
    "str1='mark'\n",
    "str2='marks'\n",
    "if(str1>str2):\n",
    "    print (str1)\n",
    "else:\n",
    "    print (str2)"
   ]
  },
  {
   "cell_type": "code",
   "execution_count": 8,
   "id": "63e8ca78",
   "metadata": {},
   "outputs": [
    {
     "data": {
      "text/plain": [
       "97"
      ]
     },
     "execution_count": 8,
     "metadata": {},
     "output_type": "execute_result"
    }
   ],
   "source": [
    "ord('a') #for finding ASI ii values"
   ]
  },
  {
   "cell_type": "code",
   "execution_count": 12,
   "id": "3846eb58",
   "metadata": {},
   "outputs": [
    {
     "name": "stdout",
     "output_type": "stream",
     "text": [
      "Enter 1st number :111\n",
      "Enter 2nd number :222\n",
      "Enter 3rd number :333\n",
      "c is the largest\n",
      "a is the smallest\n"
     ]
    }
   ],
   "source": [
    "# program for finding largest number from user input\n",
    "a= int(input(\"Enter 1st number :\"))\n",
    "b= int(input(\"Enter 2nd number :\"))\n",
    "c= int(input(\"Enter 3rd number :\"))\n",
    "if (b<a>c):\n",
    "    print (\"a is the largest\")\n",
    "elif (a<b>c):\n",
    "    print (\"b is the largest\")\n",
    "elif (a<c>b):\n",
    "    print (\"c is the largest\")\n",
    "if (b>a<c):\n",
    "    print(\"a is the smallest\")\n",
    "elif (a>b<c):\n",
    "    print(\"b is the smallest\")\n",
    "elif (a>c<b):\n",
    "    print(\"c is the smallest\")\n"
   ]
  },
  {
   "cell_type": "code",
   "execution_count": 26,
   "id": "ee950134",
   "metadata": {},
   "outputs": [
    {
     "name": "stdout",
     "output_type": "stream",
     "text": [
      "Hello Spam\n",
      "HelloSpam\n",
      "Hello Spam\n",
      "<class 'str'>\n"
     ]
    },
    {
     "data": {
      "text/plain": [
       "str"
      ]
     },
     "execution_count": 26,
     "metadata": {},
     "output_type": "execute_result"
    }
   ],
   "source": [
    "str1='Hello'\n",
    "str2='Spam'\n",
    "print (str1,str2)\n",
    "print (str1+str2)\n",
    "print (str1, str2, end='\\n')\n",
    "print(type(str1))\n",
    "type(str2)"
   ]
  },
  {
   "cell_type": "code",
   "execution_count": 48,
   "id": "0177a4fd",
   "metadata": {},
   "outputs": [
    {
     "name": "stdout",
     "output_type": "stream",
     "text": [
      "yth\n",
      "python\n"
     ]
    }
   ],
   "source": [
    "strin='python'\n",
    "print (strin[1:4]) #last value of range is excluded\n",
    "print (strin[-6:])"
   ]
  },
  {
   "cell_type": "code",
   "execution_count": 10,
   "id": "544b6ed3",
   "metadata": {},
   "outputs": [
    {
     "name": "stdout",
     "output_type": "stream",
     "text": [
      "Enter temprature: 32.132\n",
      "Enter the unit of temprature in C and F: C\n",
      "115.43760000000002\n"
     ]
    }
   ],
   "source": [
    "temp = float(input(\"Enter temprature: \"))\n",
    "a = input(\"Enter the unit of temprature in C and F: \")\n",
    "C = (temp-32)*5/9\n",
    "F = (temp+32)*9/5\n",
    "if (a == 'F'):\n",
    "    print (C)\n",
    "if (a == 'C'):\n",
    "    print (F)"
   ]
  },
  {
   "cell_type": "code",
   "execution_count": 20,
   "id": "37f81aa9",
   "metadata": {},
   "outputs": [
    {
     "name": "stdout",
     "output_type": "stream",
     "text": [
      "spameggs\n",
      "spamspamspam\n",
      "eggseggseggseggseggs\n",
      "spamspamspameggseggseggseggseggs\n",
      "4\n",
      "s p a m "
     ]
    }
   ],
   "source": [
    "stri1=\"spam\"\n",
    "stri2=\"eggs\"\n",
    "print (stri1+stri2)\n",
    "print (3*stri1)\n",
    "print (stri2*5)\n",
    "print ((3*stri1)+(stri2*5))\n",
    "print (len(stri1))\n",
    "for ch in stri1:\n",
    "    print (ch,end=\" \")"
   ]
  },
  {
   "cell_type": "code",
   "execution_count": 13,
   "id": "70bab8c7",
   "metadata": {},
   "outputs": [
    {
     "name": "stdout",
     "output_type": "stream",
     "text": [
      "['p', 'y', 'z', 'h', 'o', 'n']\n",
      "['python']\n"
     ]
    }
   ],
   "source": [
    "a=['p','y','t','h','o','n']\n",
    "b=[\"python\"]\n",
    "a[2]='z'\n",
    "print (a)\n",
    "print (b)"
   ]
  },
  {
   "cell_type": "code",
   "execution_count": 23,
   "id": "b6eb3089",
   "metadata": {},
   "outputs": [
    {
     "name": "stdout",
     "output_type": "stream",
     "text": [
      "[[1, 6, 3]]\n"
     ]
    }
   ],
   "source": [
    "ll=[[1,2,3]]\n",
    "ll[0][1]=6\n",
    "print (ll)"
   ]
  },
  {
   "cell_type": "code",
   "execution_count": 28,
   "id": "6ed97ca5",
   "metadata": {},
   "outputs": [
    {
     "name": "stdout",
     "output_type": "stream",
     "text": [
      "['w', 2, 't', 4, 'l', 'm', 1, 'o', 5, 'q', 'w', 2, 't', 4, 'l', 'm', 1, 'o', 5, 'q', 'w', 2, 't', 4, 'l', 'm', 1, 'o', 5, 'q', 'w', 2, 't', 4, 'l', 'm', 1, 'o', 5, 'q']\n"
     ]
    }
   ],
   "source": [
    "l1=['w',2,'t',4,'l']\n",
    "l2=['m',1,'o',5,'q']\n",
    "s1=\"qwerty\"\n",
    "print ((l1+l2)*4)"
   ]
  },
  {
   "cell_type": "code",
   "execution_count": 1,
   "id": "36141eba",
   "metadata": {},
   "outputs": [
    {
     "name": "stdout",
     "output_type": "stream",
     "text": [
      "5\n",
      "4\n",
      "3\n",
      "2\n",
      "1\n",
      "Blastoff!\n",
      "0\n"
     ]
    }
   ],
   "source": [
    "n=5\n",
    "while n>0:\n",
    "    print (n)\n",
    "    n= n-1\n",
    "print (\"Blastoff!\")\n",
    "print (n)"
   ]
  },
  {
   "cell_type": "code",
   "execution_count": 3,
   "id": "c9cb7f29",
   "metadata": {},
   "outputs": [
    {
     "name": "stdout",
     "output_type": "stream",
     "text": [
      "> hello there!\n",
      "hello there!\n",
      "> done\n",
      "Done!\n"
     ]
    }
   ],
   "source": [
    "while True:\n",
    "    line =input('> ')\n",
    "    if line =='done':\n",
    "        break\n",
    "    print (line)\n",
    "print ('Done!')    "
   ]
  },
  {
   "cell_type": "code",
   "execution_count": 5,
   "id": "15c1e558",
   "metadata": {},
   "outputs": [
    {
     "name": "stdout",
     "output_type": "stream",
     "text": [
      "> #rt\n",
      "> rty\n",
      "rty\n",
      "> ghj\n",
      "ghj\n",
      "> done\n",
      "Done!\n"
     ]
    }
   ],
   "source": [
    "while True:\n",
    "    line = input(\"> \")\n",
    "    if line[0] == '#':\n",
    "        continue\n",
    "    if line == 'done':\n",
    "        break\n",
    "    print (line)\n",
    "print(\"Done!\")\n",
    "    "
   ]
  },
  {
   "cell_type": "code",
   "execution_count": 6,
   "id": "3b8a01bb",
   "metadata": {},
   "outputs": [
    {
     "name": "stdout",
     "output_type": "stream",
     "text": [
      "5\n",
      "4\n",
      "3\n",
      "2\n",
      "1\n",
      "Blastoff!\n"
     ]
    }
   ],
   "source": [
    "# \"is\" == identity function\n",
    "# \"in\" == membership function\n",
    "for i in [5, 4, 3, 2, 1] :\n",
    "    print(i)\n",
    "print(\"Blastoff!\")"
   ]
  },
  {
   "cell_type": "code",
   "execution_count": 8,
   "id": "30f95aef",
   "metadata": {},
   "outputs": [
    {
     "name": "stdout",
     "output_type": "stream",
     "text": [
      "Happy New Year Joseph\n",
      "Happy New Year Glenn\n",
      "Happy New Year Sally\n"
     ]
    }
   ],
   "source": [
    "friends = ['Joseph', 'Glenn', 'Sally']\n",
    "for friend in friends :\n",
    "    print(\"Happy New Year\", friend)"
   ]
  },
  {
   "cell_type": "code",
   "execution_count": 13,
   "id": "8aba4978",
   "metadata": {},
   "outputs": [
    {
     "name": "stdout",
     "output_type": "stream",
     "text": [
      "74\n",
      "3\n"
     ]
    }
   ],
   "source": [
    "list = [9, 41, 12, 3, 74, 15]\n",
    "g=0\n",
    "for i in list :\n",
    "    if g<i:\n",
    "        g=i\n",
    "print (g)\n",
    "for i in list :\n",
    "    if g>i:\n",
    "        g=i\n",
    "print (g)"
   ]
  },
  {
   "cell_type": "code",
   "execution_count": 29,
   "id": "7cbd1cc7",
   "metadata": {
    "scrolled": true
   },
   "outputs": [
    {
     "ename": "SyntaxError",
     "evalue": "invalid syntax (1297477006.py, line 2)",
     "output_type": "error",
     "traceback": [
      "\u001b[1;36m  Cell \u001b[1;32mIn [29], line 2\u001b[1;36m\u001b[0m\n\u001b[1;33m    for(i==1,i<==rows,i++)\u001b[0m\n\u001b[1;37m                ^\u001b[0m\n\u001b[1;31mSyntaxError\u001b[0m\u001b[1;31m:\u001b[0m invalid syntax\n"
     ]
    }
   ],
   "source": [
    "rows=int(input(\"Enter number of rows you want:\"))\n",
    "for(i==1,i<==rows,i++)\n",
    "for(j==1,j<==rows-i,j++)\n",
    "printf(\" \")\n",
    "for(k==1,k<==i,k++, l++)\n",
    "printf(\"%d \",l)\n",
    "printf(\"\\n\")"
   ]
  },
  {
   "cell_type": "code",
   "execution_count": 31,
   "id": "e87d1f61",
   "metadata": {},
   "outputs": [
    {
     "name": "stdout",
     "output_type": "stream",
     "text": [
      "range(0, 9)\n"
     ]
    }
   ],
   "source": [
    "print (range(9))"
   ]
  },
  {
   "cell_type": "code",
   "execution_count": 4,
   "id": "cd09a6fd",
   "metadata": {},
   "outputs": [
    {
     "name": "stdout",
     "output_type": "stream",
     "text": [
      "Enter the range of numbers to be printed12\n",
      "0\n",
      "1\n",
      "2\n",
      "3\n",
      "4\n",
      "5\n",
      "6\n",
      "7\n",
      "8\n",
      "9\n",
      "10\n",
      "11\n",
      "12\n"
     ]
    }
   ],
   "source": [
    "n=int(input(\"Enter the range of numbers to be printed\"))\n",
    "a=n+1\n",
    "for i in range (a):\n",
    "    print (i)"
   ]
  },
  {
   "cell_type": "code",
   "execution_count": 10,
   "id": "d64704ba",
   "metadata": {},
   "outputs": [
    {
     "name": "stdout",
     "output_type": "stream",
     "text": [
      "0.9642529012532627\n"
     ]
    }
   ],
   "source": [
    "import random\n",
    "random.seed()\n",
    "print(random.random())"
   ]
  },
  {
   "cell_type": "code",
   "execution_count": 8,
   "id": "790a7c4e",
   "metadata": {
    "scrolled": true
   },
   "outputs": [
    {
     "name": "stdout",
     "output_type": "stream",
     "text": [
      "0.23604808973743452\n",
      "0.23604808973743452\n"
     ]
    }
   ],
   "source": [
    "random.seed(4)\n",
    "print(random.random())\n",
    "random.seed(4)\n",
    "print(random.random())"
   ]
  },
  {
   "cell_type": "code",
   "execution_count": 3,
   "id": "d4a4ae6e",
   "metadata": {},
   "outputs": [
    {
     "name": "stdout",
     "output_type": "stream",
     "text": [
      "[1, 2, '3', 4]\n"
     ]
    }
   ],
   "source": [
    "list1=[1,2,\"3\",4]\n",
    "print(list1)"
   ]
  },
  {
   "cell_type": "code",
   "execution_count": 12,
   "id": "af2127e2",
   "metadata": {},
   "outputs": [
    {
     "name": "stdout",
     "output_type": "stream",
     "text": [
      "[1, 4, '3', 4]\n"
     ]
    }
   ],
   "source": [
    "list1[1]=4\n",
    "print(list1)"
   ]
  },
  {
   "cell_type": "code",
   "execution_count": 15,
   "id": "3ace1721",
   "metadata": {},
   "outputs": [
    {
     "name": "stdout",
     "output_type": "stream",
     "text": [
      "[1, 5, 9, 4]\n"
     ]
    }
   ],
   "source": [
    "list1[1:3]=[5,9]\n",
    "print(list1)"
   ]
  },
  {
   "cell_type": "code",
   "execution_count": 4,
   "id": "058a5325",
   "metadata": {},
   "outputs": [
    {
     "name": "stdout",
     "output_type": "stream",
     "text": [
      "[1, 2, '3', 4, 595]\n"
     ]
    }
   ],
   "source": [
    "list1.append(619-24)\n",
    "print(list1)"
   ]
  },
  {
   "cell_type": "code",
   "execution_count": 21,
   "id": "24162025",
   "metadata": {},
   "outputs": [
    {
     "name": "stdout",
     "output_type": "stream",
     "text": [
      "[1, 5, 9, 4, 619, 643]\n"
     ]
    }
   ],
   "source": [
    "del(list1[6:8])\n",
    "print(list1)"
   ]
  },
  {
   "cell_type": "code",
   "execution_count": 22,
   "id": "4904b01b",
   "metadata": {},
   "outputs": [
    {
     "name": "stdout",
     "output_type": "stream",
     "text": [
      "[1, 2, 3, 7, 5, 6]\n"
     ]
    }
   ],
   "source": [
    "print([1,2,3]+[7,5,6])"
   ]
  },
  {
   "cell_type": "code",
   "execution_count": 25,
   "id": "463d73c5",
   "metadata": {
    "scrolled": true
   },
   "outputs": [
    {
     "name": "stdout",
     "output_type": "stream",
     "text": [
      "[1, 2, 3, 4, 5, 6]\n"
     ]
    }
   ],
   "source": [
    "l1=[1,2,3]\n",
    "l2=[4,5,6]\n",
    "print(l1+l2)"
   ]
  },
  {
   "cell_type": "code",
   "execution_count": 34,
   "id": "9368e5f7",
   "metadata": {},
   "outputs": [
    {
     "name": "stdout",
     "output_type": "stream",
     "text": [
      "[1, 2, 3, 'a', 'b', 'c']\n"
     ]
    }
   ],
   "source": [
    "l1=[1,2,3]\n",
    "l2=[\"a\",\"b\",\"c\"]\n",
    "l1.extend(l2)#it concatinates on the applied list, rather than making third list like in +\n",
    "print(l1)"
   ]
  },
  {
   "cell_type": "code",
   "execution_count": 20,
   "id": "3cba2e50",
   "metadata": {},
   "outputs": [
    {
     "data": {
      "text/plain": [
       "1"
      ]
     },
     "execution_count": 20,
     "metadata": {},
     "output_type": "execute_result"
    }
   ],
   "source": [
    "l1=[123,\"xyz\",234,\"xyz\"]\n",
    "#returns the lowest index of the object of the list\n",
    "l1.index(\"xyz\")"
   ]
  },
  {
   "cell_type": "code",
   "execution_count": 22,
   "id": "822804ec",
   "metadata": {},
   "outputs": [
    {
     "name": "stdout",
     "output_type": "stream",
     "text": [
      "[123, 'xyz', 234, 2204, 'xyz']\n"
     ]
    }
   ],
   "source": [
    "l1.insert(3,2204)#inserts an object in list at the given index\n",
    "print (l1)"
   ]
  },
  {
   "cell_type": "code",
   "execution_count": 18,
   "id": "f6fbdbcc",
   "metadata": {},
   "outputs": [
    {
     "name": "stdout",
     "output_type": "stream",
     "text": [
      "xyz\n",
      "[123, 'xyz', 234, 2204]\n"
     ]
    }
   ],
   "source": [
    "print(l1.pop())#removes last element from the list and print it(offset index is optional)\n",
    "print (l1)"
   ]
  },
  {
   "cell_type": "code",
   "execution_count": 19,
   "id": "8d6abc8a",
   "metadata": {},
   "outputs": [
    {
     "name": "stdout",
     "output_type": "stream",
     "text": [
      "[123, 'xyz', 234]\n"
     ]
    }
   ],
   "source": [
    "l1.remove(2204)#removes a particular object from list by object as a reference\n",
    "print (l1)"
   ]
  },
  {
   "cell_type": "code",
   "execution_count": 24,
   "id": "ef0f7b35",
   "metadata": {},
   "outputs": [
    {
     "name": "stdout",
     "output_type": "stream",
     "text": [
      "['xyz', 2204, 234, 'xyz', 123]\n"
     ]
    }
   ],
   "source": [
    "l1.reverse()\n",
    "print (l1)"
   ]
  },
  {
   "cell_type": "code",
   "execution_count": 17,
   "id": "cf20a22d",
   "metadata": {},
   "outputs": [
    {
     "name": "stdout",
     "output_type": "stream",
     "text": [
      "[201, 145, 123, 46]\n"
     ]
    }
   ],
   "source": [
    "l2=[123,46,145,201]\n",
    "l2.sort(reverse=True)\n",
    "print (l2)"
   ]
  },
  {
   "cell_type": "code",
   "execution_count": 6,
   "id": "4cf5d22d",
   "metadata": {
    "scrolled": true
   },
   "outputs": [
    {
     "name": "stdout",
     "output_type": "stream",
     "text": [
      " python hello\n"
     ]
    }
   ],
   "source": [
    "#Write a program to swap two strings\n",
    "l1=\"hello python\"\n",
    "a=l1[0:5]\n",
    "b=l1[5:12]\n",
    "print (b+\" \"+a)"
   ]
  },
  {
   "cell_type": "code",
   "execution_count": 40,
   "id": "3ff8481d",
   "metadata": {},
   "outputs": [
    {
     "name": "stdout",
     "output_type": "stream",
     "text": [
      "going  school\n"
     ]
    }
   ],
   "source": [
    "str1=\"I am going to school\"\n",
    "a=str1[0:1]\n",
    "b=str1[2:4]\n",
    "c=str1[5:10]\n",
    "d=str1[10:12]\n",
    "e=str1[13:21]\n",
    "print(c+\" \"+e)"
   ]
  },
  {
   "cell_type": "code",
   "execution_count": 29,
   "id": "ffc15188",
   "metadata": {},
   "outputs": [
    {
     "name": "stdout",
     "output_type": "stream",
     "text": [
      "['a', 'b', 'c']\n",
      "['f', 'g', 'h']\n",
      "['f', 'g', 'h', 'i', 'j']\n"
     ]
    }
   ],
   "source": [
    "#Make a list of first ten letters of the alphabets, then use the slicling to do the following operations:\n",
    "#1) Print the first three letters in the list\n",
    "#2) Print any three letters from the middle\n",
    "#3) Print the letter from any particular index to the end of the list\n",
    "l1=['a','b','c','d','e','f','g','h','i','j']\n",
    "\n",
    "#1) Print the first three letters in the list\n",
    "print(l1[0:3])\n",
    "#2) Print any three letters from the middle\n",
    "print(l1[int((len(l1)/2)):int((len(l1)/2)+3)])\n",
    "#3) Print the letter from any particular index to the end of the list\n",
    "print (l1[5:])"
   ]
  },
  {
   "cell_type": "code",
   "execution_count": 6,
   "id": "fb799423",
   "metadata": {},
   "outputs": [
    {
     "name": "stdout",
     "output_type": "stream",
     "text": [
      "{'Name': 'Ram', 'Roll No': 101}\n",
      "Ram\n"
     ]
    }
   ],
   "source": [
    "dict1={'Name':'Ram','Roll No':101}# Name and Roll No are keys\n",
    "print (dict1)\n",
    "print (dict1['Name'])#Every key is associated with its ltem value"
   ]
  },
  {
   "cell_type": "code",
   "execution_count": 8,
   "id": "c6b9a839",
   "metadata": {},
   "outputs": [
    {
     "name": "stdout",
     "output_type": "stream",
     "text": [
      "{'Name': 'Rohan', 'Roll No': 101}\n",
      "{'Name': 'Rohan', 'Roll No': 101, 'Course': 'BCA'}\n"
     ]
    }
   ],
   "source": [
    "dict1['Name']='Rohan'#Updation of value of a key in dictionary\n",
    "print (dict1)\n",
    "dict1['Course']='BCA'#Insertion in dictionary\n",
    "print (dict1)"
   ]
  },
  {
   "cell_type": "code",
   "execution_count": 9,
   "id": "357c1412",
   "metadata": {},
   "outputs": [
    {
     "name": "stdout",
     "output_type": "stream",
     "text": [
      "{'Name': 'Rohan', 'Roll No': 101}\n"
     ]
    }
   ],
   "source": [
    "del dict1['Course']#Deletion using key value\n",
    "print (dict1)"
   ]
  },
  {
   "cell_type": "code",
   "execution_count": 21,
   "id": "2aff594c",
   "metadata": {},
   "outputs": [
    {
     "name": "stdout",
     "output_type": "stream",
     "text": [
      "Enter your email address:foxy2034@gmail.com\n",
      "{'gmail.com', 'foxy2034'}\n"
     ]
    }
   ],
   "source": [
    "#Write a program that scans an email address and forms a tuple of user name and domain\n",
    "emads=input(\"Enter your email address:\")\n",
    "a=emads.index(\"@\")\n",
    "tpl={emads[0:a],emads[(a+1):len(emads)]}\n",
    "print (tpl)"
   ]
  },
  {
   "cell_type": "code",
   "execution_count": 8,
   "id": "3caa2fcc",
   "metadata": {},
   "outputs": [
    {
     "name": "stdout",
     "output_type": "stream",
     "text": [
      "Enter no. of rows4\n",
      "   1\n",
      "  212\n",
      " 32123\n",
      "4321234\n"
     ]
    }
   ],
   "source": [
    "row = int(input('Enter no. of rows'))\n",
    "for i in range(1,row+1):  \n",
    "    for j in range(1, row+1-i):\n",
    "        print(' ', end='')\n",
    "    for j in range(i,0,-1):\n",
    "        print(j, end='')\n",
    "    for j in range(2,i+1):\n",
    "        print(j, end='')\n",
    "    print()"
   ]
  },
  {
   "cell_type": "code",
   "execution_count": 1,
   "id": "e8f30218",
   "metadata": {},
   "outputs": [
    {
     "name": "stdout",
     "output_type": "stream",
     "text": [
      "{'1': 'abc', 2: 'xyz'}\n"
     ]
    }
   ],
   "source": [
    "dict1={'1':'abc',2:'xyz'}\n",
    "print (dict1)"
   ]
  },
  {
   "cell_type": "code",
   "execution_count": 2,
   "id": "ff1dd78f",
   "metadata": {},
   "outputs": [
    {
     "name": "stdout",
     "output_type": "stream",
     "text": [
      "2\n"
     ]
    }
   ],
   "source": [
    "print (len(dict1))"
   ]
  },
  {
   "cell_type": "code",
   "execution_count": 3,
   "id": "04301f20",
   "metadata": {},
   "outputs": [
    {
     "name": "stdout",
     "output_type": "stream",
     "text": [
      "{}\n"
     ]
    }
   ],
   "source": [
    "dict1.clear()\n",
    "print (dict1)"
   ]
  },
  {
   "cell_type": "code",
   "execution_count": 4,
   "id": "cd1cf2c4",
   "metadata": {},
   "outputs": [
    {
     "name": "stdout",
     "output_type": "stream",
     "text": [
      "{1: 'abc', 2: 'xyz'}\n"
     ]
    }
   ],
   "source": [
    "dict1={1:'abc',2:'xyz'}\n",
    "dict2=dict1.copy()\n",
    "print (dict2)"
   ]
  },
  {
   "cell_type": "code",
   "execution_count": 5,
   "id": "0709c3f0",
   "metadata": {},
   "outputs": [
    {
     "name": "stdout",
     "output_type": "stream",
     "text": [
      "xyz\n"
     ]
    }
   ],
   "source": [
    "print (dict1.get(2))"
   ]
  },
  {
   "cell_type": "code",
   "execution_count": 6,
   "id": "7140b8cf",
   "metadata": {},
   "outputs": [
    {
     "name": "stdout",
     "output_type": "stream",
     "text": [
      "{5: 'hy', 1: 'abc', 2: 'xyz'}\n"
     ]
    }
   ],
   "source": [
    "dict3={5:'hy'}\n",
    "dict3.update(dict1)\n",
    "print (dict3)"
   ]
  },
  {
   "cell_type": "code",
   "execution_count": 31,
   "id": "19734817",
   "metadata": {
    "scrolled": true
   },
   "outputs": [
    {
     "name": "stdout",
     "output_type": "stream",
     "text": [
      "Enter the month name like jan feb etcFeb\n",
      "28\n",
      "Sorted elements\n",
      "('Apr', 30)\n",
      "('Aug', 31)\n",
      "('Dec', 31)\n",
      "('Feb', 28)\n",
      "('Jan', 31)\n",
      "('Jul', 31)\n",
      "('Jun', 30)\n",
      "('Mar', 31)\n",
      "('May', 31)\n",
      "('Nov', 30)\n",
      "('Oct', 31)\n",
      "('Sep', 30)\n",
      "Values with 31 days\n",
      "Jan\n",
      "Mar\n",
      "May\n",
      "Jul\n",
      "Aug\n",
      "Oct\n",
      "Dec\n",
      "Values sorted with no. of days\n",
      "Apr\n",
      "Jun\n",
      "Sep\n",
      "Nov\n",
      "Jan\n",
      "Mar\n",
      "May\n",
      "Jul\n",
      "Aug\n",
      "Oct\n",
      "Dec\n"
     ]
    }
   ],
   "source": [
    "#Create a dictionary whose keys are month names and whose values are the number of days in the corrresponding month\n",
    "#1)ask a user to enter the month name and use the dictonary to tell them how many days are in the month\n",
    "#2)print out all the keys in alphabetical order\n",
    "dicti1={'Jan':31,'Feb':28,'Mar':31,'Apr':30,'May':31,'Jun':30,'Jul':31,'Aug':31,'Sep':30,'Oct':31,'Nov':30,'Dec':31}\n",
    "a=input(\"Enter the month name like jan feb etc\")\n",
    "print (dicti1.get(a))\n",
    "print (\"Sorted elements\")\n",
    "for key in sorted(dicti1.keys()):\n",
    "    print ((key, dicti1[key]))\n",
    "print (\"Values with 31 days\")\n",
    "for key in(dicti1.keys()):\n",
    "    if (dicti1[key]==31):\n",
    "        print (key)\n",
    "print (\"Values sorted with no. of days\")\n",
    "for i in dicti1 :\n",
    "    if dicti1[ i ] == 30 :\n",
    "        print(i)\n",
    "for i in dicti1 :\n",
    "    if dicti1[ i ] == 31 :\n",
    "        print( i)"
   ]
  },
  {
   "cell_type": "code",
   "execution_count": 20,
   "id": "77be562d",
   "metadata": {},
   "outputs": [
    {
     "name": "stdout",
     "output_type": "stream",
     "text": [
      "1296\n"
     ]
    }
   ],
   "source": [
    "#Write a program to find the product of all elements of a list\n",
    "ll=[2,4,6,3,9]\n",
    "p=1\n",
    "for n in range(0,len(ll)):\n",
    "    p=p*ll[n]\n",
    "print (p)"
   ]
  },
  {
   "cell_type": "code",
   "execution_count": 22,
   "id": "0e32bfc4",
   "metadata": {},
   "outputs": [
    {
     "name": "stdout",
     "output_type": "stream",
     "text": [
      "17\n"
     ]
    }
   ],
   "source": [
    "#for even index sum\n",
    "sum=0\n",
    "for i in range(len(ll)):\n",
    "    if(i%2==0):\n",
    "        sum=sum+ll[i]\n",
    "print (sum)"
   ]
  },
  {
   "cell_type": "code",
   "execution_count": 29,
   "id": "06343b96",
   "metadata": {},
   "outputs": [
    {
     "name": "stdout",
     "output_type": "stream",
     "text": [
      "[8, 10, 12, 14, 16, 18]\n"
     ]
    }
   ],
   "source": [
    "#Given two list l1 and l2\n",
    "l1=[1,2,3,4,5,6]\n",
    "l2=[7,8,9,10,11,12]\n",
    "l3=[0,0,0,0,0,0]\n",
    "for i in range(0,len(l1)):\n",
    "        l3[i]=l1[i]+l2[i]\n",
    "print (l3)"
   ]
  },
  {
   "cell_type": "code",
   "execution_count": 42,
   "id": "68fb8a6b",
   "metadata": {},
   "outputs": [
    {
     "name": "stdout",
     "output_type": "stream",
     "text": [
      "['c', 'c', 'c']\n"
     ]
    }
   ],
   "source": [
    "#Create a dictionary and convert it into list\n",
    "dict12={'a':12,'b':23,'c':76}\n",
    "l4=[0,0,0]\n",
    "s=0\n",
    "for i in range(0,len(l4)):\n",
    "    for key in(dict12.keys()):\n",
    "        l4[i]=key\n",
    "print (l4)"
   ]
  },
  {
   "cell_type": "code",
   "execution_count": 7,
   "id": "15f71c2e",
   "metadata": {},
   "outputs": [
    {
     "name": "stdout",
     "output_type": "stream",
     "text": [
      "[3, 4]\n",
      "[4, 5]\n"
     ]
    }
   ],
   "source": [
    "#Print al the elements of the list starting from the index 3\n",
    "lw=[1,2,3,4,5]\n",
    "print (lw[-3:-1])#Slicing using Negative Indexing\n",
    "print (lw[3:])"
   ]
  },
  {
   "cell_type": "code",
   "execution_count": 10,
   "id": "940eb3fd",
   "metadata": {},
   "outputs": [
    {
     "name": "stdout",
     "output_type": "stream",
     "text": [
      "Enter a number4\n",
      "Not Found!\n"
     ]
    }
   ],
   "source": [
    "#Write a program to chech whether the number taken from user exist in the list or not\n",
    "num=int(input(\"Enter a number\"))\n",
    "l1=[2,4,6,8,10]\n",
    "for i in range(len(l1)):\n",
    "    if(l1[i]==num):\n",
    "        print (\"Number exist in the list!\")\n",
    "        break\n",
    "    else:\n",
    "        print (\"Not Found!\")\n",
    "        break"
   ]
  },
  {
   "cell_type": "code",
   "execution_count": 28,
   "id": "a9633387",
   "metadata": {},
   "outputs": [
    {
     "name": "stdout",
     "output_type": "stream",
     "text": [
      "They are same!\n"
     ]
    }
   ],
   "source": [
    "#Given two list check whether they are same or not\n",
    "l1=[2,3,4,5]\n",
    "l2=[2,3,4,5]\n",
    "if(l1==l2):\n",
    "    print (\"They are same!\")\n",
    "else:\n",
    "    print (\"Lists are not same!\")"
   ]
  },
  {
   "cell_type": "code",
   "execution_count": 35,
   "id": "9c47d50a",
   "metadata": {},
   "outputs": [
    {
     "name": "stdout",
     "output_type": "stream",
     "text": [
      "10\n",
      "9\n",
      "8\n",
      "7\n",
      "6\n",
      "5\n",
      "4\n",
      "3\n",
      "2\n",
      "1\n"
     ]
    }
   ],
   "source": [
    "#Write a program to print first 10 natural numbers\n",
    "i=10\n",
    "while(i>=1):\n",
    "    print (i)\n",
    "    i-=1"
   ]
  },
  {
   "cell_type": "code",
   "execution_count": 9,
   "id": "eb25605f",
   "metadata": {},
   "outputs": [
    {
     "name": "stdout",
     "output_type": "stream",
     "text": [
      "2550\n"
     ]
    }
   ],
   "source": [
    "#Write a program to find the sum of all even numbers between 1 to 100\n",
    "a=0\n",
    "for i in range(1,101):\n",
    "    if(i%2==0):\n",
    "        a+=i\n",
    "print (a)"
   ]
  },
  {
   "cell_type": "code",
   "execution_count": 14,
   "id": "28049f44",
   "metadata": {},
   "outputs": [
    {
     "name": "stdout",
     "output_type": "stream",
     "text": [
      "Enter a number123\n",
      "6\n"
     ]
    }
   ],
   "source": [
    "#Write a program to find the sum of all digits of a number\n",
    "sum=0\n",
    "a=int(input(\"Enter a number\"))\n",
    "while(a>0):\n",
    "    m=a%10\n",
    "    sum=sum+m\n",
    "    a=int(a/10)\n",
    "print (sum)"
   ]
  },
  {
   "cell_type": "code",
   "execution_count": 20,
   "id": "82eb865c",
   "metadata": {},
   "outputs": [
    {
     "name": "stdout",
     "output_type": "stream",
     "text": [
      "Enter a number234\n",
      "432\n"
     ]
    }
   ],
   "source": [
    "#Write a program to reverse a given number\n",
    "s=0\n",
    "a=int(input(\"Enter a number\"))\n",
    "while(a>0):\n",
    "    m=a%10\n",
    "    s=s*10+m\n",
    "    a=int(a/10)\n",
    "print (s)"
   ]
  },
  {
   "cell_type": "code",
   "execution_count": 18,
   "id": "45675193",
   "metadata": {},
   "outputs": [
    {
     "name": "stdout",
     "output_type": "stream",
     "text": [
      "[89, 67, 56, 4, 2]\n"
     ]
    }
   ],
   "source": [
    "#Write a program to reverse a list\n",
    "lt=[2,4,56,67,89]\n",
    "lt.sort(reverse=True)\n",
    "print(lt)"
   ]
  },
  {
   "cell_type": "code",
   "execution_count": 23,
   "id": "c4ed985a",
   "metadata": {},
   "outputs": [
    {
     "name": "stdout",
     "output_type": "stream",
     "text": [
      "[1, 3, 5, 7]\n"
     ]
    }
   ],
   "source": [
    "#Write a program to concatinate two list index wise\n",
    "lt1=[1,3,5,7]\n",
    "print (lt1)"
   ]
  },
  {
   "cell_type": "code",
   "execution_count": 24,
   "id": "4e51ecc5",
   "metadata": {},
   "outputs": [
    {
     "name": "stdout",
     "output_type": "stream",
     "text": [
      "[1, 9, 25, 49]\n"
     ]
    }
   ],
   "source": [
    "#Write a program to turn every element of its list to its square\n",
    "for i in range(len(lt1)):\n",
    "    lt1[i]*=lt1[i]\n",
    "print (lt1)"
   ]
  },
  {
   "cell_type": "code",
   "execution_count": 4,
   "id": "bb898910",
   "metadata": {},
   "outputs": [
    {
     "name": "stdout",
     "output_type": "stream",
     "text": [
      "Enter str1hello\n",
      "Enter str2python\n",
      "Before a:  hello\n",
      "Before b:  python\n",
      "str1 python\n",
      "str2 hello\n",
      "python hello\n"
     ]
    }
   ],
   "source": [
    "def swap_func(str1,str2):\n",
    "    temp = str1\n",
    "    str1 = str2\n",
    "    str2 = temp\n",
    "    print(\"str1\",str1)\n",
    "    print(\"str2\",str2)\n",
    "    return str1, str2\n",
    "\n",
    "a=input(\"Enter str1\")\n",
    "b=input(\"Enter str2\")\n",
    "\n",
    "print(\"Before a: \",a)\n",
    "print(\"Before b: \",b)\n",
    "\n",
    "new_a, new_b = swap_func(a,b)\n",
    "print(new_a, new_b)"
   ]
  },
  {
   "cell_type": "code",
   "execution_count": 11,
   "id": "1c978202",
   "metadata": {},
   "outputs": [
    {
     "name": "stdout",
     "output_type": "stream",
     "text": [
      "Enter the Mailneha@gmail.com\n",
      "4\n",
      "neha\n",
      "gmail.com\n"
     ]
    }
   ],
   "source": [
    "mail=input(\"Enter the Mail\")\n",
    "print(mail.index(\"@\"))\n",
    "def sep(mail):\n",
    "    name=mail[0:mail.index(\"@\")]\n",
    "    domain=mail[mail.index(\"@\")+1:len(mail)]\n",
    "    print(name)\n",
    "    print(domain)\n",
    "sep(mail)"
   ]
  },
  {
   "cell_type": "code",
   "execution_count": 36,
   "id": "2450b67b",
   "metadata": {},
   "outputs": [
    {
     "name": "stdout",
     "output_type": "stream",
     "text": [
      "Enter your name:Rahul\n",
      "Enter your gender //M for male and F for female//\n",
      "M\n",
      "Welcome Mr.Rahul\n"
     ]
    }
   ],
   "source": [
    "#Write a program that uses a user-defined function to accept name and gender(M for male and F ofr female)\n",
    "#and prefix mr/ms to their name according to the gender and print their name.\n",
    "nm=input(\"Enter your name:\")\n",
    "gr=input(\"Enter your gender //M for male and F for female//\\n\")\n",
    "def concat(nm, gr):\n",
    "    if(gr==\"M\"):\n",
    "        print(\"Welcome Mr.\"+nm)\n",
    "    elif(gr==\"F\"):\n",
    "        print(\"Welcome Mrs.\"+nm)\n",
    "    else:\n",
    "        print(\"Wrong input!\")\n",
    "concat(nm,gr)"
   ]
  },
  {
   "cell_type": "code",
   "execution_count": 32,
   "id": "a4657501",
   "metadata": {},
   "outputs": [
    {
     "name": "stdout",
     "output_type": "stream",
     "text": [
      "['a', 'b', 'c', 'd']\n",
      "['h', 'i', 'j']\n",
      "Enter a index:4\n",
      "['e', 'f', 'g', 'h', 'i', 'j']\n"
     ]
    }
   ],
   "source": [
    "#Make a list consisting of 10 alphabets, then use slicing to:\n",
    "#1. Print first 3 letters of list\n",
    "#2. Print last 3 letters of list\n",
    "#3. Print middle letter\n",
    "lst=[\"a\",\"b\",\"c\",\"d\",\"e\",\"f\",\"g\",\"h\",\"i\",\"j\"]\n",
    "print (lst[0:4])\n",
    "print (lst[-3:])\n",
    "a=int(input(\"Enter a index:\"))\n",
    "print (lst[a:])"
   ]
  },
  {
   "cell_type": "code",
   "execution_count": 18,
   "id": "431d4288",
   "metadata": {},
   "outputs": [
    {
     "name": "stdout",
     "output_type": "stream",
     "text": [
      "['a', 'b', 'c', 'd']\n",
      "['h', 'i', 'j']\n",
      "e\n"
     ]
    }
   ],
   "source": [
    "lst=[\"a\",\"b\",\"c\",\"d\",\"e\",\"f\",\"g\",\"h\",\"i\",\"j\"]\n",
    "print (lst[0:4])\n",
    "print (lst[-3:])\n",
    "a=int(len(lst)/2)\n",
    "print (lst[a-1])"
   ]
  },
  {
   "cell_type": "code",
   "execution_count": 2,
   "id": "9c0c0a19",
   "metadata": {},
   "outputs": [
    {
     "name": "stdout",
     "output_type": "stream",
     "text": [
      "36\n"
     ]
    }
   ],
   "source": [
    "sum= lambda a,b: a+b #lambda functions dont have any name and can be quickly accessed with a variable\n",
    "print (sum(12,24))"
   ]
  },
  {
   "cell_type": "code",
   "execution_count": null,
   "id": "a14cf833",
   "metadata": {},
   "outputs": [],
   "source": [
    "#Check a string is pallindrome or not recursively\n",
    "#Remove spaces from a string recursively\n",
    "#Compute fibonacci series recursively"
   ]
  },
  {
   "cell_type": "code",
   "execution_count": 3,
   "id": "1975a517",
   "metadata": {},
   "outputs": [
    {
     "name": "stdout",
     "output_type": "stream",
     "text": [
      "10.4\n",
      "-2.4000000000000004\n",
      "25.6\n",
      "0.625\n",
      "0.0\n",
      "4.0\n"
     ]
    }
   ],
   "source": [
    "a=4\n",
    "b=6.4\n",
    "print (a+b)\n",
    "print (a-b)\n",
    "print (a*b)\n",
    "print (a/b)\n",
    "print (a//b)\n",
    "print (a%b)"
   ]
  },
  {
   "cell_type": "code",
   "execution_count": 13,
   "id": "881f5355",
   "metadata": {},
   "outputs": [
    {
     "name": "stdout",
     "output_type": "stream",
     "text": [
      "Enter the number:4\n"
     ]
    },
    {
     "data": {
      "text/plain": [
       "24"
      ]
     },
     "execution_count": 13,
     "metadata": {},
     "output_type": "execute_result"
    }
   ],
   "source": [
    "#Recursive function program\n",
    "def factorial(num):\n",
    "    if (num<1):\n",
    "        return\n",
    "    elif (num==1):\n",
    "        return 1\n",
    "    else:\n",
    "        return num*factorial(num-1)\n",
    "n= int(input(\"Enter the number:\"))\n",
    "factorial(n)"
   ]
  },
  {
   "cell_type": "code",
   "execution_count": 3,
   "id": "a0986fa7",
   "metadata": {},
   "outputs": [
    {
     "name": "stdout",
     "output_type": "stream",
     "text": [
      "Enter a string:adsaa\n",
      "String is not Pallindrome!\n"
     ]
    }
   ],
   "source": [
    "#Program for checking whether string is pallindrome or not\n",
    "def pallindrome(s):\n",
    "    t=s[::-1]\n",
    "    if (t==s):\n",
    "        print(\"String is Pallindrome!\")\n",
    "    else:\n",
    "        print(\"String is not Pallindrome!\")\n",
    "str=input(\"Enter a string:\")\n",
    "pallindrome(str)"
   ]
  },
  {
   "cell_type": "code",
   "execution_count": 25,
   "id": "d1da9ee1",
   "metadata": {},
   "outputs": [
    {
     "name": "stdout",
     "output_type": "stream",
     "text": [
      "Hello World\n"
     ]
    }
   ],
   "source": [
    "import mod #Module using import\n",
    "mod.prnt()"
   ]
  },
  {
   "cell_type": "code",
   "execution_count": 2,
   "id": "7376dd3a",
   "metadata": {},
   "outputs": [
    {
     "name": "stdout",
     "output_type": "stream",
     "text": [
      "Enter a number to be checked:12\n",
      "Number is not in list!\n"
     ]
    }
   ],
   "source": [
    "a=int(input(\"Enter a number to be checked:\"))\n",
    "l1=[2,4,3,5,8,6,9]\n",
    "for i in range (len(l1)):\n",
    "    if(l1[i]==a):\n",
    "        print (\"Number is in list!\")\n",
    "        break\n",
    "    else:\n",
    "        print (\"Number is not in list!\")\n",
    "        break"
   ]
  },
  {
   "cell_type": "code",
   "execution_count": 5,
   "id": "293f9e0d",
   "metadata": {},
   "outputs": [
    {
     "name": "stdout",
     "output_type": "stream",
     "text": [
      "Enter a string:python is good\n",
      "{'str_count': 14}\n"
     ]
    }
   ],
   "source": [
    "str=input(\"Enter a string:\")\n",
    "a=len(str)\n",
    "dict1={'str_count': 0}\n",
    "dict1['str_count']=a\n",
    "print (dict1)"
   ]
  },
  {
   "cell_type": "code",
   "execution_count": 13,
   "id": "65101078",
   "metadata": {},
   "outputs": [
    {
     "name": "stdout",
     "output_type": "stream",
     "text": [
      "(1, 2, 3, 4, 5)\n",
      "(6, 7, 8, 9, 10)\n"
     ]
    }
   ],
   "source": [
    "tpl=(1,2,3,4,5,6,7,8,9,10)\n",
    "b=int(len(tpl)/2)\n",
    "print (tpl[0:b])\n",
    "print (tpl[b:])"
   ]
  },
  {
   "cell_type": "code",
   "execution_count": 9,
   "id": "b82027a0",
   "metadata": {},
   "outputs": [
    {
     "name": "stdout",
     "output_type": "stream",
     "text": [
      "Enter 1st number12\n",
      "Enter 2nd number13\n",
      "896\n"
     ]
    }
   ],
   "source": [
    "x=int(input(\"Enter 1st number\"))\n",
    "y=int(input(\"Enter 2nd number\"))\n",
    "sum=0\n",
    "while(y<1000):\n",
    "    if y%2==0:\n",
    "        sum+=y\n",
    "    x,y=y,x+y\n",
    "print(sum)"
   ]
  },
  {
   "cell_type": "code",
   "execution_count": 21,
   "id": "512a720e",
   "metadata": {},
   "outputs": [
    {
     "name": "stdout",
     "output_type": "stream",
     "text": [
      "Enter a string:rahul\n",
      "RAHUL\n"
     ]
    }
   ],
   "source": [
    "def get_string():\n",
    "    std=input(\"Enter a string:\")\n",
    "    return std\n",
    "def print_string(a):\n",
    "    u=a.upper()\n",
    "    print (u)\n",
    "a=get_string()\n",
    "print_string(a)"
   ]
  },
  {
   "cell_type": "code",
   "execution_count": 13,
   "id": "9d5bf3e8",
   "metadata": {},
   "outputs": [
    {
     "name": "stdout",
     "output_type": "stream",
     "text": [
      "Enter the position of term:4\n",
      "2\n"
     ]
    }
   ],
   "source": [
    "def fibo(n): #Finding nth term in Fibonacci series\n",
    "    if(n==1):\n",
    "        return 0\n",
    "    elif(n==2):\n",
    "        return 1\n",
    "    elif(n>2):\n",
    "        c=fibo(n-1)+fibo(n-2)\n",
    "        return c\n",
    "r=int(input(\"Enter the position of term:\"))\n",
    "if(r<=0):\n",
    "    print(\"Wrong Input!\")\n",
    "else:    \n",
    "    a=fibo(r)\n",
    "print (a)"
   ]
  },
  {
   "cell_type": "code",
   "execution_count": 1,
   "id": "ec294e18",
   "metadata": {},
   "outputs": [
    {
     "name": "stdout",
     "output_type": "stream",
     "text": [
      "Enter range of fibonacci series:4\n",
      "0\n",
      "1\n",
      "1\n",
      "2\n"
     ]
    }
   ],
   "source": [
    "def fibo(r):              #Program for printing fibonacci series till n\n",
    "    if (r<=1):\n",
    "        return r\n",
    "    else:\n",
    "        return fibo(r-1)+fibo(r-2)\n",
    "a=int(input(\"Enter range of fibonacci series:\"))\n",
    "if(a<=0):\n",
    "    print(\"Enter a valid range!\")\n",
    "else:\n",
    "    for i in range(a):\n",
    "        print(fibo(i))"
   ]
  },
  {
   "cell_type": "code",
   "execution_count": 4,
   "id": "d15fbfbe",
   "metadata": {},
   "outputs": [
    {
     "name": "stdout",
     "output_type": "stream",
     "text": [
      "2 (2, 3) float32\n"
     ]
    }
   ],
   "source": [
    "import numpy as np\n",
    "a=np.array([[1,2,3],[4,5,6]],dtype=np.float32) # 2x3 matrix(numpy arrays are by default matrices)\n",
    "print (a.ndim, a.shape, a.dtype) #ndim is no. of dimensions, shape is order of matrix and dtype is data type used in matrix"
   ]
  },
  {
   "cell_type": "code",
   "execution_count": 14,
   "id": "33395e0f",
   "metadata": {},
   "outputs": [
    {
     "data": {
      "text/plain": [
       "array([[1., 1., 1., 1., 1.],\n",
       "       [1., 1., 1., 1., 1.],\n",
       "       [1., 1., 1., 1., 1.]], dtype=float32)"
      ]
     },
     "execution_count": 14,
     "metadata": {},
     "output_type": "execute_result"
    }
   ],
   "source": [
    "np.ones((3,5), dtype=np.float32)"
   ]
  },
  {
   "cell_type": "code",
   "execution_count": 23,
   "id": "f95f7505",
   "metadata": {},
   "outputs": [
    {
     "data": {
      "text/plain": [
       "array([[0, 0],\n",
       "       [0, 0],\n",
       "       [0, 0],\n",
       "       [0, 0],\n",
       "       [0, 0],\n",
       "       [0, 0]], dtype=int8)"
      ]
     },
     "execution_count": 23,
     "metadata": {},
     "output_type": "execute_result"
    }
   ],
   "source": [
    "np.zeros((6,2), dtype=np.int8)"
   ]
  },
  {
   "cell_type": "code",
   "execution_count": 24,
   "id": "bfa2389c",
   "metadata": {},
   "outputs": [
    {
     "data": {
      "text/plain": [
       "array([1334, 1335, 1336, 1337])"
      ]
     },
     "execution_count": 24,
     "metadata": {},
     "output_type": "execute_result"
    }
   ],
   "source": [
    "np.arange(1334,1338)"
   ]
  },
  {
   "cell_type": "code",
   "execution_count": 32,
   "id": "02565692",
   "metadata": {},
   "outputs": [
    {
     "data": {
      "text/plain": [
       "array([[1., 0., 0.],\n",
       "       [1., 0., 0.],\n",
       "       [1., 0., 0.],\n",
       "       [1., 0., 0.]])"
      ]
     },
     "execution_count": 32,
     "metadata": {},
     "output_type": "execute_result"
    }
   ],
   "source": [
    "a=np.ones((4,1))\n",
    "b=np.zeros((4,2))\n",
    "np.concatenate([a,b], axis=1)#axis=0 columns should be same and axis=1 rows should be same"
   ]
  },
  {
   "cell_type": "code",
   "execution_count": 9,
   "id": "00bb7ac7",
   "metadata": {},
   "outputs": [
    {
     "data": {
      "text/plain": [
       "array([[1.],\n",
       "       [1.],\n",
       "       [1.],\n",
       "       [1.]])"
      ]
     },
     "execution_count": 9,
     "metadata": {},
     "output_type": "execute_result"
    }
   ],
   "source": [
    "A=np.ones((4,1))\n",
    "A.astype(float)"
   ]
  },
  {
   "cell_type": "code",
   "execution_count": 16,
   "id": "3c13e983",
   "metadata": {},
   "outputs": [
    {
     "data": {
      "text/plain": [
       "array([[0.85208038, 0.25218443, 0.19812853, 0.02556755, 0.41650591],\n",
       "       [0.15220306, 0.65445894, 0.45504946, 0.50442451, 0.82766239],\n",
       "       [0.21723402, 0.05497721, 0.66103169, 0.75431572, 0.92481163],\n",
       "       [0.60835863, 0.14118044, 0.43466816, 0.81735165, 0.10393121],\n",
       "       [0.08778001, 0.65399377, 0.69345121, 0.8449461 , 0.5900054 ],\n",
       "       [0.43954982, 0.58740923, 0.89413633, 0.81046441, 0.32271976],\n",
       "       [0.37128447, 0.26927632, 0.49171043, 0.40199671, 0.88891286],\n",
       "       [0.90229657, 0.73757989, 0.08886572, 0.94694713, 0.35886561],\n",
       "       [0.15350122, 0.81253954, 0.67846904, 0.43452448, 0.07786325],\n",
       "       [0.39673266, 0.11259439, 0.74296837, 0.61484567, 0.55097892]])"
      ]
     },
     "execution_count": 16,
     "metadata": {},
     "output_type": "execute_result"
    }
   ],
   "source": [
    "np.random.random((10,5))"
   ]
  },
  {
   "cell_type": "code",
   "execution_count": 37,
   "id": "8dc0f7da",
   "metadata": {},
   "outputs": [
    {
     "data": {
      "text/plain": [
       "array([[2., 2., 2., 2., 2., 2., 2., 2.],\n",
       "       [2., 2., 2., 2., 2., 2., 2., 2.],\n",
       "       [2., 2., 2., 2., 2., 2., 2., 2.],\n",
       "       [2., 2., 2., 2., 2., 2., 2., 2.],\n",
       "       [2., 2., 2., 2., 2., 2., 2., 2.],\n",
       "       [2., 2., 2., 2., 2., 2., 2., 2.],\n",
       "       [2., 2., 2., 2., 2., 2., 2., 2.],\n",
       "       [2., 2., 2., 2., 2., 2., 2., 2.],\n",
       "       [2., 2., 2., 2., 2., 2., 2., 2.]])"
      ]
     },
     "execution_count": 37,
     "metadata": {},
     "output_type": "execute_result"
    }
   ],
   "source": [
    "np.ones([9,8])+np.ones([9,8])"
   ]
  },
  {
   "cell_type": "code",
   "execution_count": 24,
   "id": "d2ce51d7",
   "metadata": {},
   "outputs": [],
   "source": [
    "a=np.ones([1,2,3])\n",
    "b=np.ones([2,3,4])"
   ]
  },
  {
   "cell_type": "code",
   "execution_count": 29,
   "id": "6df4980d",
   "metadata": {},
   "outputs": [
    {
     "data": {
      "text/plain": [
       "array([[[1., 1., 1.],\n",
       "        [1., 1., 1.]]])"
      ]
     },
     "execution_count": 29,
     "metadata": {},
     "output_type": "execute_result"
    }
   ],
   "source": [
    "a"
   ]
  },
  {
   "cell_type": "code",
   "execution_count": 30,
   "id": "8340b160",
   "metadata": {},
   "outputs": [
    {
     "data": {
      "text/plain": [
       "array([[[1., 1., 1., 1.],\n",
       "        [1., 1., 1., 1.],\n",
       "        [1., 1., 1., 1.]],\n",
       "\n",
       "       [[1., 1., 1., 1.],\n",
       "        [1., 1., 1., 1.],\n",
       "        [1., 1., 1., 1.]]])"
      ]
     },
     "execution_count": 30,
     "metadata": {},
     "output_type": "execute_result"
    }
   ],
   "source": [
    "b"
   ]
  },
  {
   "cell_type": "code",
   "execution_count": 33,
   "id": "e018b7e0",
   "metadata": {},
   "outputs": [],
   "source": [
    "z=np.ones([9,8])"
   ]
  },
  {
   "cell_type": "code",
   "execution_count": 34,
   "id": "d1a16ad8",
   "metadata": {},
   "outputs": [],
   "source": [
    "y=np.ones([9,3])"
   ]
  },
  {
   "cell_type": "code",
   "execution_count": 36,
   "id": "4e5c8d4d",
   "metadata": {},
   "outputs": [
    {
     "data": {
      "text/plain": [
       "array([[1., 1., 1., 1., 1., 1., 1., 1., 1., 1., 1.],\n",
       "       [1., 1., 1., 1., 1., 1., 1., 1., 1., 1., 1.],\n",
       "       [1., 1., 1., 1., 1., 1., 1., 1., 1., 1., 1.],\n",
       "       [1., 1., 1., 1., 1., 1., 1., 1., 1., 1., 1.],\n",
       "       [1., 1., 1., 1., 1., 1., 1., 1., 1., 1., 1.],\n",
       "       [1., 1., 1., 1., 1., 1., 1., 1., 1., 1., 1.],\n",
       "       [1., 1., 1., 1., 1., 1., 1., 1., 1., 1., 1.],\n",
       "       [1., 1., 1., 1., 1., 1., 1., 1., 1., 1., 1.],\n",
       "       [1., 1., 1., 1., 1., 1., 1., 1., 1., 1., 1.]])"
      ]
     },
     "execution_count": 36,
     "metadata": {},
     "output_type": "execute_result"
    }
   ],
   "source": [
    "np.concatenate([z,y], axis=1)"
   ]
  },
  {
   "cell_type": "code",
   "execution_count": 3,
   "id": "1b6731b5",
   "metadata": {},
   "outputs": [
    {
     "name": "stdout",
     "output_type": "stream",
     "text": [
      "Enter the number lines:4\n",
      "* \n",
      "* * \n",
      "* * * \n",
      "* * * * \n"
     ]
    }
   ],
   "source": [
    "a=int(input(\"Enter the number lines:\"))\n",
    "for i in range(1,a+1):\n",
    "    print(i*\"* \")"
   ]
  },
  {
   "cell_type": "code",
   "execution_count": 10,
   "id": "8dfbb26f",
   "metadata": {},
   "outputs": [
    {
     "name": "stdout",
     "output_type": "stream",
     "text": [
      "Enter no. of rows:4\n",
      "    *\n",
      "   **\n",
      "  ***\n",
      " ****\n"
     ]
    }
   ],
   "source": [
    "a=int(input(\"Enter no. of rows:\"))\n",
    "for i in range(1,a+1):\n",
    "    print((a-i)*\" \",i*\"*\")"
   ]
  },
  {
   "cell_type": "code",
   "execution_count": 13,
   "id": "2bc97222",
   "metadata": {},
   "outputs": [
    {
     "name": "stdout",
     "output_type": "stream",
     "text": [
      "Enter no. of rows:4\n",
      "    * \n",
      "   * * \n",
      "  * * * \n",
      " * * * * \n"
     ]
    }
   ],
   "source": [
    "a=int(input(\"Enter no. of rows:\"))\n",
    "for i in range(1,a+1):\n",
    "    print((a-i)*\" \",i*\"* \")"
   ]
  },
  {
   "cell_type": "code",
   "execution_count": 9,
   "id": "aff104de",
   "metadata": {},
   "outputs": [
    {
     "data": {
      "image/png": "[encoded data removed]",
      "text/plain": [
       "<Figure size 640x480 with 1 Axes>"
      ]
     },
     "metadata": {},
     "output_type": "display_data"
    }
   ],
   "source": [
    "import matplotlib.pyplot as plt       #Line-graph\n",
    "def main():\n",
    "    x_cords=[0,1,2,3,4]\n",
    "    y_cords=[0,3,1,5,0]\n",
    "    plt.plot(x_cords,y_cords)\n",
    "   # plt.xlim(xmin=1,xmax=100)\n",
    "    #plt.ylim(ymin=10,ymax=100)\n",
    "    \n",
    "    plt.show()\n",
    "    \n",
    "main()"
   ]
  },
  {
   "cell_type": "code",
   "execution_count": 23,
   "id": "a7f3a702",
   "metadata": {},
   "outputs": [
    {
     "data": {
      "image/png": "[encoded data removed]",
      "text/plain": [
       "<Figure size 640x480 with 1 Axes>"
      ]
     },
     "metadata": {},
     "output_type": "display_data"
    }
   ],
   "source": [
    "import matplotlib.pyplot as plt\n",
    "def main():\n",
    "    x_cords=[0,1,2,3,4]\n",
    "    y_cords=[0,3,1,5,0]\n",
    "    plt.plot(x_cords,y_cords,marker='*')\n",
    "    plt.title(\"Sales by Year\")\n",
    "    plt.xlabel('Year')\n",
    "    plt.ylabel('Sales')\n",
    "    plt.xticks([0,1,2,3,4],['2016','2017','2018','2019','2020'])\n",
    "    plt.yticks([0,1,2,3,4],['$0m','$1m','$2m','$3m','$5m'])\n",
    "    plt.grid(True)\n",
    "    plt.show()\n",
    "    \n",
    "main()"
   ]
  },
  {
   "cell_type": "code",
   "execution_count": 35,
   "id": "c8f48f89",
   "metadata": {},
   "outputs": [
    {
     "data": {
      "image/png": "[encoded data removed]",
      "text/plain": [
       "<Figure size 640x480 with 1 Axes>"
      ]
     },
     "metadata": {},
     "output_type": "display_data"
    }
   ],
   "source": [
    "import matplotlib.pyplot as plt      #Bar-graph\n",
    "def main():\n",
    "    left_edges=[0,10,20,30,40]\n",
    "    heights=[100,200,300,400,500]\n",
    "    bar_width=5\n",
    "    plt.bar(left_edges,heights,bar_width,color=('r','g','b','m','k'))\n",
    "    plt.xticks([0,10,20,30,40],['2016','2017','2018','2019','2020'])\n",
    "    plt.yticks([100,200,300,400,500],['$0m','$1m','$2m','$3m','$5m'])\n",
    "    plt.show()\n",
    "main()"
   ]
  },
  {
   "cell_type": "code",
   "execution_count": 3,
   "id": "490c0bf1",
   "metadata": {},
   "outputs": [
    {
     "data": {
      "image/png": "[encoded data removed]",
      "text/plain": [
       "<Figure size 640x480 with 1 Axes>"
      ]
     },
     "metadata": {},
     "output_type": "display_data"
    }
   ],
   "source": [
    "import matplotlib.pyplot as plt      #Pie-chart\n",
    "values=[20,60,80,40]\n",
    "slice_labels=['1st Qtr','2nd Qtr','3nd Qtr','4nd Qtr']\n",
    "plt.pie(values,labels=slice_labels)\n",
    "plt.title(\"Sales by Year\")\n",
    "plt.show()"
   ]
  },
  {
   "cell_type": "code",
   "execution_count": 2,
   "id": "a514dbe6",
   "metadata": {},
   "outputs": [
    {
     "name": "stdout",
     "output_type": "stream",
     "text": [
      "Enter a string:i am rahul\n"
     ]
    },
    {
     "data": {
      "text/plain": [
       "'iamrahul'"
      ]
     },
     "execution_count": 2,
     "metadata": {},
     "output_type": "execute_result"
    }
   ],
   "source": [
    "def removespace(str):\n",
    "    if (len(str)==0):\n",
    "        return \"\"\n",
    "    if (str[0]==\" \"):\n",
    "        return removespace(str[1:])\n",
    "    else:\n",
    "        return str[0]+removespace(str[1:])\n",
    "string=input(\"Enter a string:\")\n",
    "removespace(string)"
   ]
  },
  {
   "cell_type": "code",
   "execution_count": 19,
   "id": "ee4ee345",
   "metadata": {},
   "outputs": [
    {
     "name": "stdout",
     "output_type": "stream",
     "text": [
      "[12, 8, 6, 4, 2]\n"
     ]
    }
   ],
   "source": [
    "l1=[2,4,6,8,12]\n",
    "print (l1[::-1])"
   ]
  },
  {
   "cell_type": "code",
   "execution_count": 3,
   "id": "57259fa3",
   "metadata": {},
   "outputs": [
    {
     "name": "stdout",
     "output_type": "stream",
     "text": [
      "Enter the value of x:5\n",
      "Enter the value of n:9\n",
      "0.28422084055031593\n"
     ]
    }
   ],
   "source": [
    "#\n",
    "import math\n",
    "def facto(num):\n",
    "    if (num<1):\n",
    "        return\n",
    "    elif (num==1):\n",
    "        return 1\n",
    "    else:\n",
    "        return num*facto(num-1)\n",
    "def equate(p,q):\n",
    "    term=1\n",
    "    sum=1\n",
    "    y=2\n",
    "    for i in range(1,q):\n",
    "        term=term*(-1)\n",
    "        m=term*(math.pow(p,y)/facto(y))\n",
    "        sum+=m\n",
    "        y+=2\n",
    "    return(sum)\n",
    "x=int(input(\"Enter the value of x:\"))\n",
    "n=int(input(\"Enter the value of n:\"))\n",
    "print(equate(x,n))"
   ]
  },
  {
   "cell_type": "code",
   "execution_count": 8,
   "id": "4054c468",
   "metadata": {},
   "outputs": [
    {
     "name": "stdout",
     "output_type": "stream",
     "text": [
      "Hello\n",
      "World!\n"
     ]
    }
   ],
   "source": [
    "print (\"Hello\")\n",
    "print (\"World!\")"
   ]
  },
  {
   "cell_type": "code",
   "execution_count": 7,
   "id": "0d000bf9",
   "metadata": {},
   "outputs": [
    {
     "name": "stdout",
     "output_type": "stream",
     "text": [
      "Hello\n",
      "\n",
      "World!\n",
      "\n"
     ]
    }
   ],
   "source": [
    "print (\"Hello\\n\")\n",
    "print (\"World!\\n\")"
   ]
  },
  {
   "cell_type": "code",
   "execution_count": 14,
   "id": "bcb7324f",
   "metadata": {},
   "outputs": [
    {
     "name": "stdout",
     "output_type": "stream",
     "text": [
      "Enter file namepython.txt\n",
      "Hello \n",
      "World!\n",
      "0\n"
     ]
    }
   ],
   "source": [
    "def main():\n",
    "    fname=input(\"Enter file name\")\n",
    "    infile=open(fname,'r')\n",
    "    data=infile.read()\n",
    "    print(data)\n",
    "    infile.seek(0)\n",
    "    print (infile.tell())\n",
    "    #sys.stdout.write()\n",
    "    infile.close()\n",
    "main()"
   ]
  },
  {
   "cell_type": "code",
   "execution_count": 3,
   "id": "75f3c8ea",
   "metadata": {},
   "outputs": [
    {
     "name": "stdout",
     "output_type": "stream",
     "text": [
      "0\n",
      "4\n",
      "14\n",
      "b'gh-level, '\n"
     ]
    }
   ],
   "source": [
    "file=open(\"python.txt\",'rb')              #For using seek offset we need to open the file in binary mode\n",
    "#1) Print initial position of cursor\n",
    "print (file.tell())\n",
    "#2) Move cursor to 4th position\n",
    "file.seek(4,0)\n",
    "print (file.tell())\n",
    "#3) Display next 5 characters\n",
    "# print (file.readline(5))\n",
    "#4) Move cursor to next 10 characters\n",
    "file.seek(10,1)\n",
    "#5) Print the current cursor position\n",
    "print (file.tell())\n",
    "#6) Print next 10 characters from the current position\n",
    "print (file.readline(10))"
   ]
  },
  {
   "cell_type": "code",
   "execution_count": null,
   "id": "7a168ea3",
   "metadata": {},
   "outputs": [],
   "source": []
  }
 ],
 "metadata": {
  "kernelspec": {
   "display_name": "Python 3 (ipykernel)",
   "language": "python",
   "name": "python3"
  },
  "language_info": {
   "codemirror_mode": {
    "name": "ipython",
    "version": 3
   },
   "file_extension": ".py",
   "mimetype": "text/x-python",
   "name": "python",
   "nbconvert_exporter": "python",
   "pygments_lexer": "ipython3",
   "version": "3.10.7"
  }
 },
 "nbformat": 4,
 "nbformat_minor": 5
}
